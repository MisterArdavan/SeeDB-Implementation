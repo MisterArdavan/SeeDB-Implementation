{
 "cells": [
  {
   "cell_type": "code",
   "execution_count": 25,
   "metadata": {
    "id": "JyCTH6bNwcMd"
   },
   "outputs": [],
   "source": [
    "# dependencies and libraries\n",
    "import sqlite3\n",
    "import io\n",
    "import pandas as pd\n",
    "import numpy as np\n",
    "from collections import defaultdict\n",
    "from pathlib import Path\n",
    "from decimal import Decimal\n",
    "from scipy.stats import wasserstein_distance, entropy\n",
    "import matplotlib.pyplot as plt\n",
    "from collections import defaultdict\n",
    "\n",
    "%matplotlib inline \n",
    "plt.rcParams[\"figure.figsize\"] = (10, 8)\n",
    "plt.rc('xtick', labelsize=14) \n",
    "plt.rc('ytick', labelsize=14)"
   ]
  },
  {
   "cell_type": "code",
   "execution_count": 26,
   "metadata": {
    "id": "n8yY5YHCwKL0"
   },
   "outputs": [],
   "source": [
    "conn = sqlite3.connect(\"SeeDb.db\")\n",
    "cursor = conn.cursor()\n",
    "agg_funcs = ['avg', 'sum', 'count', 'min', 'max']\n",
    "dimensions = ['sex', 'work_class', 'education', 'marital_status', 'occupation', 'relationship', \n",
    "                  'race', 'native_country', 'class']\n",
    "measures = ['age','fnlwgt', 'education_num', 'capital_gain', 'capital_loss', 'hours_per_week']\n",
    "epsilon = Decimal(1e-8)\n",
    "n_partition = 10\n",
    "S_row = 10000"
   ]
  },
  {
   "cell_type": "code",
   "execution_count": 27,
   "metadata": {
    "id": "4nCZ0x4lfDg1"
   },
   "outputs": [],
   "source": [
    "#this cell has the functions definitions responsible to create, fill and query the database\n",
    "#run this cell once whenever the notebook is disconnected to create the database and fill it locally\n",
    "def create_fill_database(): \n",
    "  # Drop table if it exists\n",
    "  cursor.execute('''DROP TABLE IF EXISTS census''')\n",
    "  # Create table\n",
    "  cursor.execute('''CREATE TABLE census\n",
    "                (age int, work_class text, fnlwgt int, education text, education_num int, marital_status text, occupation text, relationship text, \n",
    "                race text, sex text, capital_gain int, capital_loss int, hours_per_week int, native_country text, class text)''')\n",
    "\n",
    "  #fill the database\n",
    "  df = pd.DataFrame(pd.read_csv('adultdata.csv'))\n",
    "  for row in df.itertuples():\n",
    "      cursor.execute('''\n",
    "                  INSERT INTO census (age, work_class, fnlwgt, education, education_num, marital_status, occupation, relationship, \n",
    "                  race, sex, capital_gain, capital_loss, hours_per_week, native_country, class)\n",
    "                  VALUES (?,?,?,?,?,?,?,?,?,?,?,?,?,?,?)\n",
    "                  ''',\n",
    "                  (row.AGE, row.WORK_CLASS, row.FNLWGT, row.EDUCATION, row.EDUCATION_NUM, row.MARITAL_STATUS, row.OCCUPATION, row.RELATIONSHIP, \n",
    "                  row.RACE, row.SEX, row.CAPITAL_GAIN, row.CAPITAL_LOSS, row.HOURS_PER_WEEK, row.NATIVE_COUNTRY, row.CLASS)\n",
    "                  )   \n",
    "  conn.commit()\n",
    "  #conn.close()\n",
    "  \n",
    "#create_fill_database()"
   ]
  },
  {
   "cell_type": "markdown",
   "metadata": {
    "id": "enWr0ndKIvSI"
   },
   "source": [
    "## Phase-based Execution Framework:"
   ]
  },
  {
   "cell_type": "code",
   "execution_count": 212,
   "metadata": {
    "id": "4I5tL89f2mKi"
   },
   "outputs": [
    {
     "name": "stdout",
     "output_type": "stream",
     "text": [
      "Partitioning output: \n",
      "[0, 3016, 6032, 9048, 12064, 15080, 18096, 21112, 24128, 27144]\n",
      "run_query_on_partition output: \n",
      "    age        work_class  fnlwgt     education  education_num  \\\n",
      "0    50  Self-emp-not-inc   83311     Bachelors             13   \n",
      "1    38           Private  215646       HS-grad              9   \n",
      "2    53           Private  234721          11th              7   \n",
      "3    52  Self-emp-not-inc  209642       HS-grad              9   \n",
      "4    42           Private  159449     Bachelors             13   \n",
      "5    37           Private  280464  Some-college             10   \n",
      "6    30         State-gov  141297     Bachelors             13   \n",
      "7    32           Private  205019    Assoc-acdm             12   \n",
      "8    34           Private  245487       7th-8th              4   \n",
      "9    25  Self-emp-not-inc  176756       HS-grad              9   \n",
      "10   32           Private  186824       HS-grad              9   \n",
      "11   38           Private   28887          11th              7   \n",
      "12   40           Private  193524     Doctorate             16   \n",
      "13   35       Federal-gov   76845           9th              5   \n",
      "14   43           Private  117037          11th              7   \n",
      "15   56         Local-gov  216851     Bachelors             13   \n",
      "16   19           Private  168294       HS-grad              9   \n",
      "17   39           Private  367260       HS-grad              9   \n",
      "18   49           Private  193366       HS-grad              9   \n",
      "19   23         Local-gov  190709    Assoc-acdm             12   \n",
      "20   20           Private  266015  Some-college             10   \n",
      "21   45           Private  386940     Bachelors             13   \n",
      "22   30       Federal-gov   59951  Some-college             10   \n",
      "23   22         State-gov  311512  Some-college             10   \n",
      "24   48           Private  242406          11th              7   \n",
      "25   21           Private  197200  Some-college             10   \n",
      "26   48  Self-emp-not-inc  265477    Assoc-acdm             12   \n",
      "27   31           Private  507875           9th              5   \n",
      "28   53  Self-emp-not-inc   88506     Bachelors             13   \n",
      "29   24           Private  172987     Bachelors             13   \n",
      "30   25           Private  289980       HS-grad              9   \n",
      "31   57       Federal-gov  337895     Bachelors             13   \n",
      "32   53           Private  144361       HS-grad              9   \n",
      "33   41         State-gov  101603     Assoc-voc             11   \n",
      "34   29           Private  271466     Assoc-voc             11   \n",
      "35   50       Federal-gov  251585     Bachelors             13   \n",
      "\n",
      "        marital_status         occupation   relationship                race  \\\n",
      "0   Married-civ-spouse    Exec-managerial        Husband               White   \n",
      "1             Divorced  Handlers-cleaners  Not-in-family               White   \n",
      "2   Married-civ-spouse  Handlers-cleaners        Husband               Black   \n",
      "3   Married-civ-spouse    Exec-managerial        Husband               White   \n",
      "4   Married-civ-spouse    Exec-managerial        Husband               White   \n",
      "5   Married-civ-spouse    Exec-managerial        Husband               Black   \n",
      "6   Married-civ-spouse     Prof-specialty        Husband  Asian-Pac-Islander   \n",
      "7        Never-married              Sales  Not-in-family               Black   \n",
      "8   Married-civ-spouse   Transport-moving        Husband  Amer-Indian-Eskimo   \n",
      "9        Never-married    Farming-fishing      Own-child               White   \n",
      "10       Never-married  Machine-op-inspct      Unmarried               White   \n",
      "11  Married-civ-spouse              Sales        Husband               White   \n",
      "12  Married-civ-spouse     Prof-specialty        Husband               White   \n",
      "13  Married-civ-spouse    Farming-fishing        Husband               Black   \n",
      "14  Married-civ-spouse   Transport-moving        Husband               White   \n",
      "15  Married-civ-spouse       Tech-support        Husband               White   \n",
      "16       Never-married       Craft-repair      Own-child               White   \n",
      "17            Divorced    Exec-managerial  Not-in-family               White   \n",
      "18  Married-civ-spouse       Craft-repair        Husband               White   \n",
      "19       Never-married    Protective-serv  Not-in-family               White   \n",
      "20       Never-married              Sales      Own-child               Black   \n",
      "21            Divorced    Exec-managerial      Own-child               White   \n",
      "22  Married-civ-spouse       Adm-clerical      Own-child               White   \n",
      "23  Married-civ-spouse      Other-service        Husband               Black   \n",
      "24       Never-married  Machine-op-inspct      Unmarried               White   \n",
      "25       Never-married  Machine-op-inspct      Own-child               White   \n",
      "26  Married-civ-spouse     Prof-specialty        Husband               White   \n",
      "27  Married-civ-spouse  Machine-op-inspct        Husband               White   \n",
      "28  Married-civ-spouse     Prof-specialty        Husband               White   \n",
      "29  Married-civ-spouse       Tech-support        Husband               White   \n",
      "30       Never-married  Handlers-cleaners  Not-in-family               White   \n",
      "31  Married-civ-spouse     Prof-specialty        Husband               Black   \n",
      "32  Married-civ-spouse  Machine-op-inspct        Husband               White   \n",
      "33  Married-civ-spouse       Craft-repair        Husband               White   \n",
      "34       Never-married     Prof-specialty  Not-in-family               White   \n",
      "35            Divorced    Exec-managerial  Not-in-family               White   \n",
      "\n",
      "     sex  capital_gain  capital_loss  hours_per_week native_country  class  \n",
      "0   Male             0             0              13  United-States  <=50K  \n",
      "1   Male             0             0              40  United-States  <=50K  \n",
      "2   Male             0             0              40  United-States  <=50K  \n",
      "3   Male             0             0              45  United-States   >50K  \n",
      "4   Male          5178             0              40  United-States   >50K  \n",
      "5   Male             0             0              80  United-States   >50K  \n",
      "6   Male             0             0              40          India   >50K  \n",
      "7   Male             0             0              50  United-States  <=50K  \n",
      "8   Male             0             0              45         Mexico  <=50K  \n",
      "9   Male             0             0              35  United-States  <=50K  \n",
      "10  Male             0             0              40  United-States  <=50K  \n",
      "11  Male             0             0              50  United-States  <=50K  \n",
      "12  Male             0             0              60  United-States   >50K  \n",
      "13  Male             0             0              40  United-States  <=50K  \n",
      "14  Male             0          2042              40  United-States  <=50K  \n",
      "15  Male             0             0              40  United-States   >50K  \n",
      "16  Male             0             0              40  United-States  <=50K  \n",
      "17  Male             0             0              80  United-States  <=50K  \n",
      "18  Male             0             0              40  United-States  <=50K  \n",
      "19  Male             0             0              52  United-States  <=50K  \n",
      "20  Male             0             0              44  United-States  <=50K  \n",
      "21  Male             0          1408              40  United-States  <=50K  \n",
      "22  Male             0             0              40  United-States  <=50K  \n",
      "23  Male             0             0              15  United-States  <=50K  \n",
      "24  Male             0             0              40    Puerto-Rico  <=50K  \n",
      "25  Male             0             0              40  United-States  <=50K  \n",
      "26  Male             0             0              40  United-States  <=50K  \n",
      "27  Male             0             0              43  United-States  <=50K  \n",
      "28  Male             0             0              40  United-States  <=50K  \n",
      "29  Male             0             0              50  United-States  <=50K  \n",
      "30  Male             0             0              35  United-States  <=50K  \n",
      "31  Male             0             0              40  United-States   >50K  \n",
      "32  Male             0             0              38  United-States  <=50K  \n",
      "33  Male             0             0              40  United-States  <=50K  \n",
      "34  Male             0             0              43  United-States  <=50K  \n",
      "35  Male             0             0              55  United-States   >50K  \n"
     ]
    }
   ],
   "source": [
    "def exec_view(view):\n",
    "    group_by, measurement,agg_func = view\n",
    "    target_query = \"select {0}, {1}({2}) from census where marital_status in ('Married-AF-spouse', 'Married-civ-spouse', 'Married-spouse-absent') Group By {0};\".format(group_by, agg_func, measurement)\n",
    "    ref_query = \"select {0}, {1}({2}) from census where marital_status in ('Never-married', 'Widowed','Divorced', 'Separated') Group By {0};\".format(group_by, agg_func, measurement)\n",
    "    target_df = execute_query(target_query)\n",
    "    ref_df = execute_query(ref_query)\n",
    "    return target_df,ref_df\n",
    "\n",
    "def execute_query(query):\n",
    "  \"\"\"Returns a dataframe object with all the resulting records\n",
    "  Arguments:\n",
    "    query: The query to execute\"\"\"\n",
    "  records_df = pd.read_sql_query(query, conn)\n",
    "  return records_df\n",
    "\n",
    "\n",
    "def partition_DB(n):\n",
    "  \"\"\"Returns a list of each partition starting point\n",
    "  Arguments:\n",
    "    n: number of partitions\n",
    "    \"\"\"\n",
    "  records_count = execute_query(\"select count(*) from census\").iloc[0]\n",
    "  partition_size = int(records_count/n)\n",
    "  range_start = []\n",
    "  for i in range(n):\n",
    "    range_start.append(i*partition_size)\n",
    "  return range_start\n",
    "\n",
    "\n",
    "def run_query_on_partition(query, start, end = -1):\n",
    "  \"\"\"Execute query on dataset partition\n",
    "  Arguments:\n",
    "    query: query to execute\n",
    "    start: start of the dataset partition (not inclusive)\n",
    "    end: end of the dataset partition (inclusive) (default -1 for the last partition)\n",
    "  Returns:\n",
    "    Dataframe containing result of executing the query on the dataset partition \n",
    "  \"\"\"\n",
    "  part1 = query\n",
    "  part2 = \"\"\n",
    "  idx = query.lower().find(\"group by\")\n",
    "  if idx != -1:\n",
    "    part1 = query[:idx]\n",
    "    part2 = query[idx:]\n",
    "  #add the partitioning condition to the where clause\n",
    "  if \"where\" in part1.lower():\n",
    "    part1 += \" AND rowid > \" + str(start)\n",
    "  else:\n",
    "    part1 += \" where rowid > \" + str(start)\n",
    "  #the last partition doesn't have an end condition \n",
    "  if end != -1:\n",
    "    part1 += \" AND rowid <= \" + str(end)\n",
    "  \n",
    "  return execute_query(part1 + \" \" + part2)\n",
    "\n",
    "print(\"Partitioning output: \")\n",
    "print(partition_DB(10))\n",
    "print(\"run_query_on_partition output: \")\n",
    "print(run_query_on_partition(\"select * from census where sex='Male'\", 1, 50))"
   ]
  },
  {
   "cell_type": "markdown",
   "metadata": {
    "id": "AN7ZuEB94PvM"
   },
   "source": [
    "## Sharing-based Optimizations:"
   ]
  },
  {
   "cell_type": "markdown",
   "metadata": {
    "id": "PnRDlvlCPeV8"
   },
   "source": [
    "Implementation of First-Fit Decreasing Algorithm:"
   ]
  },
  {
   "cell_type": "code",
   "execution_count": 29,
   "metadata": {
    "colab": {
     "base_uri": "https://localhost:8080/"
    },
    "id": "Mu5KDbnKPb5s",
    "outputId": "aafd737f-36bb-43de-b367-58e2d974613a"
   },
   "outputs": [
    {
     "data": {
      "text/plain": [
       "[['native_country', 'education', 'occupation'],\n",
       " ['work_class', 'marital_status', 'relationship', 'race', 'sex', 'class']]"
      ]
     },
     "execution_count": 29,
     "metadata": {},
     "output_type": "execute_result"
    }
   ],
   "source": [
    "import operator\n",
    "class Bin:\n",
    "    def __init__(self, c):\n",
    "        self.items = []\n",
    "        self.remaining_cap = c\n",
    "    \n",
    "    def add(self, dimension, weight):\n",
    "        self.items.append(dimension)\n",
    "        self.remaining_cap -= weight\n",
    "\n",
    "    def get_dimensions(self):\n",
    "        return self.items\n",
    "\n",
    "    def get_cap(self):\n",
    "        return self.remaining_cap\n",
    "\n",
    "def first_fit(dimensions, c):\n",
    "    bins = []\n",
    "    # add first bin\n",
    "    bins.append(Bin(c))\n",
    "    for dimension, weight in dimensions:\n",
    "        need_new_bin = True\n",
    "        for bin in bins:\n",
    "            if bin.get_cap() >= weight:\n",
    "                bin.add(dimension, weight)\n",
    "                need_new_bin = False\n",
    "                break\n",
    "        if need_new_bin:\n",
    "            bins.append(Bin(c))\n",
    "            bins[-1].add(dimension, weight)\n",
    "\n",
    "    return [b.get_dimensions() for b in bins]\n",
    "\n",
    "def first_fit_dec(dimensions, c):\n",
    "    sorted_dims = sorted(dimensions.items(), key=operator.itemgetter(1), reverse=True)\n",
    "    return (first_fit(sorted_dims, c))\n",
    "\n",
    "def get_distinct_dimension_counts_log10():\n",
    "    count_str = []\n",
    "    for d in dimensions:\n",
    "        count_str.append('count(distinct {0}) as {0}'.format(d))\n",
    "    count_str=\", \".join(count_str)\n",
    "    query = \"SELECT {} FROM census\".format(count_str)\n",
    "    output = execute_query(query)\n",
    "    log_values = np.log10(np.array(output)[0]) # because the output is [[2, 7, 16, 7, 14, 6, 5, 41, 2]]\n",
    "    column_names = output.columns \n",
    "    return dict(zip(column_names, log_values))\n",
    "\n",
    "dist_dimension_count_log10s = get_distinct_dimension_counts_log10()\n",
    "first_fit_dec(dist_dimension_count_log10s, np.log10(S_row))"
   ]
  },
  {
   "cell_type": "code",
   "execution_count": 30,
   "metadata": {
    "id": "IVR7X8B6ifCY"
   },
   "outputs": [
    {
     "name": "stdout",
     "output_type": "stream",
     "text": [
      "Total number of views: 270\n"
     ]
    }
   ],
   "source": [
    "def get_all_views():\n",
    "  \"\"\"Returns all possible views which is m*a*f views\"\"\"\n",
    "  views = []\n",
    "  for f in agg_funcs:\n",
    "      for a in dimensions:\n",
    "          for m in measures:\n",
    "              views.append((a, m, f))\n",
    "\n",
    "  return views\n",
    "\n",
    "v=get_all_views()\n",
    "print('Total number of views: {}'.format(len(v)))\n",
    "#print(v)"
   ]
  },
  {
   "cell_type": "code",
   "execution_count": 231,
   "metadata": {
    "id": "2skrhNBj4Uhc"
   },
   "outputs": [
    {
     "name": "stdout",
     "output_type": "stream",
     "text": [
      "[\"select sex, count(fnlwgt) as count_fnlwgt, min(fnlwgt) as min_fnlwgt, sum(capital_loss) as sum_capital_loss, count(capital_gain) as count_capital_gain, avg(hours_per_week) as avg_hours_per_week, max(capital_loss) as max_capital_loss, avg(capital_gain) as avg_capital_gain, max(fnlwgt) as max_fnlwgt, avg(age) as avg_age, count(age) as count_age, sum(fnlwgt) as sum_fnlwgt, max(hours_per_week) as max_hours_per_week, max(capital_gain) as max_capital_gain, sum(age) as sum_age, count(education_num) as count_education_num, max(age) as max_age, min(capital_loss) as min_capital_loss, sum(hours_per_week) as sum_hours_per_week, min(hours_per_week) as min_hours_per_week, count(hours_per_week) as count_hours_per_week, avg(education_num) as avg_education_num, avg(fnlwgt) as avg_fnlwgt, sum(education_num) as sum_education_num, avg(capital_loss) as avg_capital_loss, count(capital_loss) as count_capital_loss, min(age) as min_age, min(education_num) as min_education_num, max(education_num) as max_education_num, sum(capital_gain) as sum_capital_gain, min(capital_gain) as min_capital_gain, CASE WHEN marital_status in ('Married-AF-spouse', 'Married-civ-spouse', 'Married-spouse-absent') THEN 'Married' ELSE 'Unmarried' END Grouped_Marital_Status  from census group by sex, Grouped_Marital_Status;\", \"select work_class, count(fnlwgt) as count_fnlwgt, min(fnlwgt) as min_fnlwgt, sum(capital_loss) as sum_capital_loss, count(capital_gain) as count_capital_gain, avg(hours_per_week) as avg_hours_per_week, max(capital_loss) as max_capital_loss, avg(capital_gain) as avg_capital_gain, max(fnlwgt) as max_fnlwgt, avg(age) as avg_age, count(age) as count_age, sum(fnlwgt) as sum_fnlwgt, max(hours_per_week) as max_hours_per_week, max(capital_gain) as max_capital_gain, sum(age) as sum_age, count(education_num) as count_education_num, max(age) as max_age, min(capital_loss) as min_capital_loss, sum(hours_per_week) as sum_hours_per_week, min(hours_per_week) as min_hours_per_week, count(hours_per_week) as count_hours_per_week, avg(education_num) as avg_education_num, avg(fnlwgt) as avg_fnlwgt, sum(education_num) as sum_education_num, avg(capital_loss) as avg_capital_loss, count(capital_loss) as count_capital_loss, min(age) as min_age, min(education_num) as min_education_num, max(education_num) as max_education_num, sum(capital_gain) as sum_capital_gain, min(capital_gain) as min_capital_gain, CASE WHEN marital_status in ('Married-AF-spouse', 'Married-civ-spouse', 'Married-spouse-absent') THEN 'Married' ELSE 'Unmarried' END Grouped_Marital_Status  from census group by work_class, Grouped_Marital_Status;\", \"select education, count(fnlwgt) as count_fnlwgt, min(fnlwgt) as min_fnlwgt, sum(capital_loss) as sum_capital_loss, count(capital_gain) as count_capital_gain, avg(hours_per_week) as avg_hours_per_week, max(capital_loss) as max_capital_loss, avg(capital_gain) as avg_capital_gain, max(fnlwgt) as max_fnlwgt, avg(age) as avg_age, count(age) as count_age, sum(fnlwgt) as sum_fnlwgt, max(hours_per_week) as max_hours_per_week, max(capital_gain) as max_capital_gain, sum(age) as sum_age, count(education_num) as count_education_num, max(age) as max_age, min(capital_loss) as min_capital_loss, sum(hours_per_week) as sum_hours_per_week, min(hours_per_week) as min_hours_per_week, count(hours_per_week) as count_hours_per_week, avg(education_num) as avg_education_num, avg(fnlwgt) as avg_fnlwgt, sum(education_num) as sum_education_num, avg(capital_loss) as avg_capital_loss, count(capital_loss) as count_capital_loss, min(age) as min_age, min(education_num) as min_education_num, max(education_num) as max_education_num, sum(capital_gain) as sum_capital_gain, min(capital_gain) as min_capital_gain, CASE WHEN marital_status in ('Married-AF-spouse', 'Married-civ-spouse', 'Married-spouse-absent') THEN 'Married' ELSE 'Unmarried' END Grouped_Marital_Status  from census group by education, Grouped_Marital_Status;\"]\n"
     ]
    }
   ],
   "source": [
    "def get_views_with_same_group_by(views):\n",
    "    \"\"\"Returns a dictionary, the key is the group by attribute and the value is the view tuple\"\"\"\n",
    "    d = defaultdict(list)\n",
    "\n",
    "    for view in views:\n",
    "        (a, m, f) = view\n",
    "        d[a].append(view)\n",
    "    return d\n",
    "        \n",
    "#print(len(get_views_with_same_group_by(get_all_views())))\n",
    "\n",
    "\n",
    "def get_all_combined_queries(views):\n",
    "    \"\"\"Returns a list of all possible queries to be applied after applying the shared-based optimization\n",
    "    Arguments:\n",
    "        views: list of tuples in the form (a, m, f)\n",
    "        use_multi_attr_group_by: True/False\"\"\"\n",
    "    queries = []\n",
    "    measures_str = []\n",
    "    agg_funcs_list = []\n",
    "    measures_list = []\n",
    "\n",
    "    #Combine Multiple Aggregates\n",
    "    v = get_views_with_same_group_by(views)\n",
    "    keys = list(v.keys())\n",
    "    views = list(v.values())\n",
    "    for i in range(len(keys)):\n",
    "        group_by_str = keys[i]\n",
    "        for (a, m, f) in views[i]:\n",
    "            measures_list.append(m)\n",
    "            agg_funcs_list.append(f)\n",
    "        if(\"avg\" in agg_funcs_list and \"count\" not in agg_funcs_list):\n",
    "            agg_funcs_list.append(\"count\")\n",
    "        for f in agg_funcs_list:\n",
    "            for m in measures_list:\n",
    "                measures_str.append('{0}({1}) as {0}_{1}'.format(f, m))\n",
    "        #remove duplicates\n",
    "        measures_str = list(set(measures_str))\n",
    "        measures_str_combined = ', '.join(measures_str)\n",
    "        #Combine reference and target queries\n",
    "        ref_target_string = \"\"\", CASE WHEN marital_status in ('Married-AF-spouse', 'Married-civ-spouse', 'Married-spouse-absent') THEN 'Married' ELSE 'Unmarried' END Grouped_Marital_Status \"\"\"\n",
    "        measures_str_combined += ref_target_string\n",
    "        \n",
    "        queries.append('select {1}, {0} from census group by {1}, Grouped_Marital_Status;'.format(measures_str_combined, group_by_str))\n",
    "    return queries\n",
    "\n",
    "    \n",
    "print(get_all_combined_queries(get_all_views())[:3])    "
   ]
  },
  {
   "cell_type": "code",
   "execution_count": 232,
   "metadata": {},
   "outputs": [],
   "source": [
    "def combine_multiple_group_by(queries):\n",
    "    #it takes queries after applying the multiple aggregate and target and reference combining\n",
    "    #TODO\n",
    "    return queries"
   ]
  },
  {
   "cell_type": "code",
   "execution_count": 233,
   "metadata": {
    "colab": {
     "base_uri": "https://localhost:8080/",
     "height": 525
    },
    "id": "JBVbzomuSNVY",
    "outputId": "c04b77d8-c115-4c85-9638-ce4dc7361bf4"
   },
   "outputs": [],
   "source": [
    "def execute_combined_queries_on_partition(combined_queries, part_start, part_end):\n",
    "    results = []\n",
    "    for query in combined_queries:\n",
    "        result_df = run_query_on_partition(query, part_start, part_end)\n",
    "        results.append(result_df)\n",
    "    return results"
   ]
  },
  {
   "cell_type": "markdown",
   "metadata": {
    "id": "ICGjwtipJS64"
   },
   "source": [
    "### **Pruning based optimization**\n",
    "\n",
    "Calculate utilities for combined GROUP-BYs:"
   ]
  },
  {
   "cell_type": "code",
   "execution_count": 234,
   "metadata": {
    "colab": {
     "base_uri": "https://localhost:8080/"
    },
    "id": "idSQIouHSMes",
    "outputId": "430f1b83-a50f-4913-ef63-227671682b60"
   },
   "outputs": [],
   "source": [
    "def kl_divergence(target_agg_vals, ref_agg_vals):\n",
    "    # normalize\n",
    "    target_agg_vals = np.array(target_agg_vals, dtype=float)\n",
    "    ref_agg_vals = np.array(ref_agg_vals, dtype=float)\n",
    "    t_sum = sum(target_agg_vals)\n",
    "    r_sum = sum(ref_agg_vals)\n",
    "    t_norm = [i/t_sum for i in target_agg_vals]\n",
    "    r_norm = [i/r_sum for i in ref_agg_vals]\n",
    "    # calculate divergence\n",
    "    return entropy( r_norm,t_norm)\n",
    "\n",
    "def calculate_utility(target_agg_vals, ref_agg_vals):\n",
    "    # Earth Mover's Distance\n",
    "    # return wasserstein_distance(target_agg_vals, ref_agg_vals)\n",
    "    # KL Divergence\n",
    "    return kl_divergence(target_agg_vals, ref_agg_vals)\n",
    "\n",
    "def get_target_and_ref_aggregated_fms(aggregated_fms):\n",
    "    # Now we make sure the same values for dimension attributes exist in the mapping for both target and reference. \n",
    "    #Then, we can return the list of aggregate function values corresponding to those dimension values to be used for calculating utility.\n",
    "    target_fms = aggregated_fms[0]\n",
    "    ref_fms = aggregated_fms[1]\n",
    "    dim_agg_pairs = defaultdict(list)\n",
    "    target_agg_vals = []\n",
    "    ref_agg_vals = []\n",
    "\n",
    "    for dimension_val, agg_val in target_fms.items():\n",
    "        if agg_val == 0:\n",
    "            temp = epsilon\n",
    "        else:\n",
    "            temp = agg_val\n",
    "        dim_agg_pairs[dimension_val].append(temp)\n",
    "\n",
    "    for dimension_val, agg_val in ref_fms.items():\n",
    "        if dimension_val not in dim_agg_pairs: # dim_val in ref but not in target\n",
    "            dim_agg_pairs[dimension_val].append(epsilon)\n",
    "        \n",
    "        if agg_val == 0:\n",
    "            temp = epsilon\n",
    "        else:\n",
    "            temp = agg_val\n",
    "        dim_agg_pairs[dimension_val].append(temp)\n",
    "\n",
    "    for dim_val, agg_vals in dim_agg_pairs.items():\n",
    "        if len(agg_vals) < 2: # dim_val in target but not in ref\n",
    "            dim_agg_pairs[dim_val].append(epsilon)\n",
    "        \n",
    "    for agg_vals in dim_agg_pairs.values():\n",
    "        target_agg_vals.append(agg_vals[0])\n",
    "        ref_agg_vals.append(agg_vals[1])\n",
    "\n",
    "    return target_agg_vals, ref_agg_vals\n",
    "\n",
    "def calculate_dimension_avg(fm_values, count_ms):\n",
    "    agg_val_sum = 0\n",
    "    count_sum = 0\n",
    "    for fm, count in zip(fm_values, count_ms):\n",
    "        count_sum += count\n",
    "        agg_val_sum += fm * count\n",
    "    if count_sum != 0:\n",
    "        return agg_val_sum/count_sum\n",
    "    else:\n",
    "        return epsilon\n",
    "\n",
    "def calculate_aggregate_value(dim_val, fm_values, agg_func, result, m, a):\n",
    "    if agg_func == 'avg':\n",
    "        count_ms=list(result[result[a] == dim_val][\"count_{}\".format(m)]) # count(m) for the corresponding row\n",
    "        return calculate_dimension_avg(count_ms, fm_values)\n",
    "    elif agg_func == 'min':\n",
    "        return min(fm_values)\n",
    "    elif agg_func == 'max':\n",
    "        return max(fm_values)\n",
    "    elif agg_func == 'sum':\n",
    "        return sum(fm_values)\n",
    "    elif agg_func == 'count':\n",
    "        return sum(fm_values)\n",
    "    else:\n",
    "        raise ValueError(\"Aggregate function cannot be {} for dimension value {}!\".format(agg_func, dim_val))\n",
    "\n",
    "\n",
    "def calc_utilities(results,views=get_all_views()):\n",
    "    utilities = {}\n",
    "    aggregated_fms = [defaultdict(list), defaultdict(list)]\n",
    "    for (a, m, f) in views:\n",
    "        for i in range(len(results)): # for target and reference results\n",
    "            result = results[i]\n",
    "            for dim_val in result[a].unique(): # for every value of a dimension\n",
    "                # if dim_val == '?':\n",
    "                #     continue\n",
    "                fm_values=list(result[result[a] == dim_val][\"{}_{}\".format(f,m)]) # get all of corresponding f(m) values\n",
    "                aggregated_fms[i][dim_val] = calculate_aggregate_value(dim_val, fm_values, f, result, m, a)\n",
    "                target_agg_vals, ref_agg_vals = get_target_and_ref_aggregated_fms(aggregated_fms)\n",
    "        utilities[(a, m, f)] = (calculate_utility(target_agg_vals, ref_agg_vals))\n",
    "    return utilities\n",
    "\n",
    "def calc_utilities_given_views(results,views):\n",
    "    utilities = {}\n",
    "    aggregated_fms = [defaultdict(list), defaultdict(list)]\n",
    "    for (a, m, f) in views:\n",
    "        for i in  range(len(results)): # for target and reference results\n",
    "            result = None\n",
    "            for query_result in results[i]:\n",
    "                if set((a,\"{}_{}\".format(f,m))).issubset(query_result.columns):\n",
    "                    result = query_result\n",
    "  \n",
    "\n",
    "                \n",
    "            for dim_val in result[a].unique(): # for every value of a dimension\n",
    "                # if dim_val == '?':\n",
    "                #     continue\n",
    "                fm_values=list(result[result[a] == dim_val][\"{}_{}\".format(f,m)]) # get all of corresponding f(m) values\n",
    "                aggregated_fms[i][dim_val] = calculate_aggregate_value(dim_val, fm_values, f, result, m, a)\n",
    "                target_agg_vals, ref_agg_vals = get_target_and_ref_aggregated_fms(aggregated_fms)\n",
    "        utilities[(a, m, f)] = (calculate_utility(target_agg_vals, ref_agg_vals))\n",
    "    return utilities\n",
    "\n",
    "#view_utilities = calc_utilities(results[0:2]) # we should change here Hadeel\n",
    "#view_utilities"
   ]
  },
  {
   "cell_type": "code",
   "execution_count": null,
   "metadata": {},
   "outputs": [],
   "source": []
  },
  {
   "cell_type": "code",
   "execution_count": 235,
   "metadata": {},
   "outputs": [
    {
     "name": "stdout",
     "output_type": "stream",
     "text": [
      "       education  sum(fnlwgt)\n",
      "0           10th     67707455\n",
      "1           11th     64193563\n",
      "2           12th     24099203\n",
      "3        1st-4th     20930683\n",
      "4        5th-6th     36172412\n",
      "5        7th-8th     62161118\n",
      "6            9th     46013676\n",
      "7     Assoc-acdm     83399898\n",
      "8      Assoc-voc    119418961\n",
      "9      Bachelors    495110075\n",
      "10     Doctorate     49598333\n",
      "11       HS-grad    866445493\n",
      "12       Masters    171673615\n",
      "13     Preschool      5362627\n",
      "14   Prof-school     73337544\n",
      "15  Some-college    513327825\n",
      "       education  sum(fnlwgt)\n",
      "0           10th     93807607\n",
      "1           11th    138353188\n",
      "2           12th     51450621\n",
      "3        1st-4th     16103367\n",
      "4        5th-6th     31764376\n",
      "5        7th-8th     44176918\n",
      "6            9th     47027918\n",
      "7     Assoc-acdm    110958774\n",
      "8      Assoc-voc    117331285\n",
      "9      Bachelors    452826884\n",
      "10     Doctorate     21194980\n",
      "11       HS-grad    997096132\n",
      "12       Masters    121172599\n",
      "13     Preschool      5324845\n",
      "14   Prof-school     27269081\n",
      "15  Some-college    749750563\n"
     ]
    }
   ],
   "source": [
    "t,r = exec_view(('education', 'fnlwgt', 'sum'))\n",
    "\n",
    "calculate_utility(r['sum(fnlwgt)'],t['sum(fnlwgt)'])\n",
    "print(t)\n",
    "print(r)\n"
   ]
  },
  {
   "cell_type": "code",
   "execution_count": 236,
   "metadata": {},
   "outputs": [],
   "source": [
    "import math\n",
    "def Hoeffding_Serfling_Error(m,N,delta=10**-2):\n",
    "    return math.sqrt(    (1-(m-1)/N) *  (  2*math.log(math.log(m))  +  math.log(math.pi**2/(3*delta))  )/(2*m))"
   ]
  },
  {
   "cell_type": "code",
   "execution_count": 237,
   "metadata": {},
   "outputs": [],
   "source": [
    "import heapq\n",
    "def confidence_interval_pruning(upperbound,lowerbound,optimized_queries,k):\n",
    "    top_k_queries = set(heapq.nlargest(k,upperbound,key = upperbound.get))\n",
    "    print(top_k_queries)\n",
    "    top_k_lowest_lowerbound = min(lowerbound[q] for q in top_k_queries)\n",
    "    for query in  optimized_queries:\n",
    "        if query not in top_k_queries:\n",
    "            if upperbound[query]<top_k_lowest_lowerbound:\n",
    "                  optimized_queries.remove(query)\n",
    "    return optimized_queries"
   ]
  },
  {
   "cell_type": "code",
   "execution_count": 238,
   "metadata": {},
   "outputs": [],
   "source": [
    "def MAB_pruning(current_mean,optimized_queries,k):\n",
    "    top_k_1 = heapq.nlargest(k+1,current_mean,key = current_mean.get)\n",
    "    sorted_queries = sorted(list(optimized_queries),key=lambda q: current_mean[q],reverse=True) \n",
    "    lowest = min(current_mean[q] for q in current_mean)\n",
    "    delta_1 = top_k_1[0][1]-top_k_1[k-1][1]\n",
    "    delta_n = top_k_1[-1][1]-lowest\n",
    "    if delta_1>delta_n:\n",
    "        sorted_queries.pop(0)\n",
    "    else:\n",
    "        sorted_queries.pop(-1)\n",
    "    return set(sorted_queries)"
   ]
  },
  {
   "cell_type": "code",
   "execution_count": 239,
   "metadata": {},
   "outputs": [],
   "source": [
    "def prune_views(m,top_views, running_mean, prune_method = \"CI\",N=10,k=5):\n",
    "    \n",
    "\n",
    "    if (m ==1):\n",
    "        return top_views\n",
    "    if prune_method == \"CI\":\n",
    "        upperbounds,lowerbounds = {},{}\n",
    "        confidence_interval = Hoeffding_Serfling_Error(m,N)\n",
    "        for q in top_views:\n",
    "            upperbounds[q] =  running_mean[q]+confidence_interval\n",
    "            lowerbounds[q] =  running_mean[q]-confidence_interval\n",
    "        return confidence_interval_pruning(upperbounds,lowerbounds,top_views,k)\n",
    "    elif prune_method == \"MAB\":\n",
    "        return MAB_pruning(running_mean,top_views,k)\n",
    "    else:\n",
    "        return top_view\n",
    "        \n",
    "    "
   ]
  },
  {
   "cell_type": "markdown",
   "metadata": {
    "id": "2CPMzlCc-fgI"
   },
   "source": [
    "### **Visualizing top k queries:**"
   ]
  },
  {
   "cell_type": "code",
   "execution_count": null,
   "metadata": {},
   "outputs": [],
   "source": []
  },
  {
   "cell_type": "code",
   "execution_count": 240,
   "metadata": {},
   "outputs": [],
   "source": [
    "def get_top_k_views(view_utilities, k):\n",
    "    return sorted(view_utilities.items(), key= lambda item: item[1], reverse=True)[:k]\n",
    "\n",
    "#get_top_k_views(view_utilities, 10)"
   ]
  },
  {
   "cell_type": "code",
   "execution_count": 241,
   "metadata": {
    "id": "P1oCvqdW-eLw"
   },
   "outputs": [
    {
     "data": {
      "image/png": "[encoded data removed]",
      "text/plain": [
       "<Figure size 720x576 with 1 Axes>"
      ]
     },
     "metadata": {
      "needs_background": "light"
     },
     "output_type": "display_data"
    }
   ],
   "source": [
    "#This list is used only for testing, it should be removed \n",
    "views_list = [\n",
    "    #('marital_status', 'fnlwgt', 'sum'),\n",
    "    #('relationship', 'capital_gain', 'sum'),\n",
    "    ('native_country', 'capital_loss', 'max')]\n",
    "\n",
    "\n",
    "def draw_views(views_list):\n",
    "    for view in views_list:\n",
    "        group_by, measurement, agg_func = view\n",
    "        if group_by == 'marital_status':\n",
    "            query = \"\"\"select CASE WHEN marital_status in ('Married-AF-spouse', 'Married-civ-spouse', 'Married-spouse-absent') THEN 'Married' ELSE 'Unmarried' END Grouped_Marital_Status\n",
    "            , {}({}) from census Group by Grouped_Marital_Status;\"\"\".format(agg_func, measurement)\n",
    "            group_by = \"Grouped_Marital_Status\"\n",
    "            res = execute_query(query)\n",
    "            target_df = res.loc[res['Grouped_Marital_Status']=='Married'].reset_index(drop=True)\n",
    "            ref_df = res.loc[res['Grouped_Marital_Status']=='Unmarried'].reset_index(drop=True)\n",
    "\n",
    "        else:    \n",
    "            target_query = \"select {0}, {1}({2}) from census where marital_status in ('Married-AF-spouse', 'Married-civ-spouse', 'Married-spouse-absent') Group By {0};\".format(group_by, agg_func, measurement)\n",
    "            ref_query = \"select {0}, {1}({2}) from census where marital_status in ('Never-married', 'Widowed','Divorced', 'Separated') Group By {0};\".format(group_by, agg_func, measurement)\n",
    "            target_df = execute_query(target_query)\n",
    "            ref_df = execute_query(ref_query)\n",
    "            \n",
    "        #populate both df with the same values for the groups so target and ref have same groups\n",
    "        for t in target_df[group_by]:                  \n",
    "            if t not in list(ref_df[group_by]):\n",
    "                ref_df.loc[len(ref_df.index)] = [t, 0] \n",
    "        for r in ref_df[group_by]:\n",
    "            if r not in list(target_df[group_by]):\n",
    "                target_df.loc[len(target_df.index)] = [r, 0]\n",
    "        target_df = target_df.sort_values(by=[group_by])\n",
    "        ref_df = ref_df.sort_values(by=[group_by])\n",
    "\n",
    "        indices = list(target_df.columns)\n",
    "        target_val = target_df[indices[1]]\n",
    "        ref_val = ref_df[indices[1]]\n",
    "        \n",
    "        # create plot\n",
    "        n_groups = len(target_df)\n",
    "        fig, ax = plt.subplots()\n",
    "        index = np.arange(n_groups)\n",
    "        bar_width = 0.4\n",
    "        opacity = 0.8\n",
    "\n",
    "        rects1 = plt.bar(index, ref_val, bar_width, alpha=opacity, color='c', label='unmarried')\n",
    "        rects2 = plt.bar(index + bar_width, target_val, bar_width, alpha=opacity, color='b', label='married')\n",
    "        \n",
    "        plt.xlabel('{}'.format(group_by), fontsize = 16)\n",
    "        plt.ylabel('{}({})'.format(agg_func, measurement), fontsize = 16)\n",
    "                    \n",
    "        plt.xticks(index + 0.5 * bar_width, ref_df[indices[0]], rotation=45)\n",
    "        plt.legend(fontsize=14)\n",
    "\n",
    "        plt.tight_layout()\n",
    "        plt.show()\n",
    "\n",
    "\n",
    "draw_views(views_list)\n"
   ]
  },
  {
   "cell_type": "code",
   "execution_count": 246,
   "metadata": {},
   "outputs": [
    {
     "name": "stdout",
     "output_type": "stream",
     "text": [
      "phase: 0 start\n",
      "0      67707455\n",
      "2      64193563\n",
      "4      24099203\n",
      "6      20930683\n",
      "8      36172412\n",
      "10     62161118\n",
      "12     46013676\n",
      "14     83399898\n",
      "16    119418961\n",
      "18    495110075\n",
      "20     49598333\n",
      "22    866445493\n",
      "24    171673615\n",
      "26      5362627\n",
      "28     73337544\n",
      "30    513327825\n",
      "Name: sum_fnlwgt, dtype: int64\n",
      "Remaining views: 270\n",
      "[(('marital_status', 'fnlwgt', 'sum'), 39.14901303942308), (('marital_status', 'fnlwgt', 'max'), 31.970562755551803), (('marital_status', 'capital_gain', 'max'), 29.060448612460462), (('marital_status', 'capital_gain', 'sum'), 27.889317981615626), (('marital_status', 'capital_loss', 'max'), 21.631160990500007)]\n"
     ]
    },
    {
     "data": {
      "image/png": "[encoded data removed]",
      "text/plain": [
       "<Figure size 720x576 with 1 Axes>"
      ]
     },
     "metadata": {
      "needs_background": "light"
     },
     "output_type": "display_data"
    },
    {
     "data": {
      "image/png": "[encoded data removed]",
      "text/plain": [
       "<Figure size 720x576 with 1 Axes>"
      ]
     },
     "metadata": {
      "needs_background": "light"
     },
     "output_type": "display_data"
    },
    {
     "data": {
      "image/png": "[encoded data removed]",
      "text/plain": [
       "<Figure size 720x576 with 1 Axes>"
      ]
     },
     "metadata": {
      "needs_background": "light"
     },
     "output_type": "display_data"
    },
    {
     "data": {
      "image/png": "[encoded data removed]",
      "text/plain": [
       "<Figure size 720x576 with 1 Axes>"
      ]
     },
     "metadata": {
      "needs_background": "light"
     },
     "output_type": "display_data"
    },
    {
     "data": {
      "image/png": "[encoded data removed]",
      "text/plain": [
       "<Figure size 720x576 with 1 Axes>"
      ]
     },
     "metadata": {
      "needs_background": "light"
     },
     "output_type": "display_data"
    }
   ],
   "source": [
    "def apply_algorithms(apply_multiple_group_by, apply_pruning):\n",
    "    #partition the db\n",
    "    n = 1\n",
    "    all_partitions_start = partition_DB(n)\n",
    "\n",
    "    # The execution engine begins with the entire set of aggregate views under consideration. \n",
    "    top_views = get_all_views()\n",
    "    running_mean = defaultdict(float)\n",
    "    for i in range(n):\n",
    "        print(\"phase:\",i,\"start\")\n",
    "        # During phase i, SEEDB updates partial results for the views still under consideration using the ith fraction of the dataset. \n",
    "        part_start = all_partitions_start[i]\n",
    "        part_end = -1 if (i == n-1) else all_partitions_start[i+1]\n",
    "        # The execution engine applies sharing-based optimizations to minimize scans on this ith fraction of the dataset. \n",
    "        # combined queries will start with the entire set of aggregate views under consideration.\n",
    "        combined_queries = get_all_combined_queries(top_views)\n",
    "        \n",
    "        if apply_multiple_group_by:\n",
    "            combine_multiple_group_by(combined_queries)\n",
    "            \n",
    "        target_view_data = []\n",
    "        reference_view_data = []\n",
    "\n",
    "        result = execute_combined_queries_on_partition(combined_queries, part_start, part_end)\n",
    "        i=0\n",
    "        for res in result:\n",
    "            # results of executing the combined queries on ref and target, each item will contain a dataframe with the rows resulting\n",
    "            # from executing the combined query on the reference and the target data\n",
    "            target_view_data.append(res.loc[res['Grouped_Marital_Status']=='Married'])\n",
    "            reference_view_data.append(res.loc[res['Grouped_Marital_Status']=='Unmarried'])\n",
    "        print(target_view_data[2][\"sum_fnlwgt\"])\n",
    "        #Calcuate the utility scores and the running average of the scores for each running query \n",
    "        \n",
    "        utilities=calc_utilities_given_views([target_view_data,reference_view_data],top_views)\n",
    "        for q in top_views:\n",
    "            running_mean[q] = (running_mean[q]*(i)+ utilities[q])/(i+1)\n",
    "            \n",
    "        # At the end of phase i, the execution engine uses pruning-based optimizations to determine which aggregate views to discard.    \n",
    "        #print(len(target_view_data),target_view_data[0].columns)\n",
    "        #print(len(target_view_data),reference_view_data[0].columns)\n",
    "\n",
    "            top_views = prune_views(i+1,top_views,running_mean,k=5)\n",
    "            \n",
    "            print(\"Remaining views:\",len(top_views))\n",
    "        \n",
    "        # These two lines should be inside the prune function or in a similar way\n",
    "        # views_utilities[i].append(calc_utilities(target_view_data, reference_view_data))\n",
    "        # top_k_views = get_top_k_views(view_utilities, 5)\n",
    "\n",
    "    #draw the top k views, printing only 3 for testing\n",
    "    top_k = get_top_k_views(running_mean,5)\n",
    "    print(top_k)\n",
    "    top_k_views = [x[0] for x in top_k]\n",
    "    draw_views(top_k_views)\n",
    "    \n",
    "\n",
    "apply_algorithms(False, False)"
   ]
  },
  {
   "cell_type": "code",
   "execution_count": null,
   "metadata": {},
   "outputs": [],
   "source": [
    "apply_algorithms()"
   ]
  },
  {
   "cell_type": "markdown",
   "metadata": {
    "id": "9I6iMBkEI4et"
   },
   "source": []
  },
  {
   "cell_type": "code",
   "execution_count": null,
   "metadata": {
    "id": "IOv-iLOMI_WQ"
   },
   "outputs": [],
   "source": [
    "# %%time\n",
    "\n",
    "# n_splits = 10\n",
    "# split_path = Path('/content/census.splits')\n",
    "# split_path.mkdir(parents=True, exist_ok=True)\n",
    "\n",
    "# df = pd.DataFrame(pd.read_csv('/content/adultdata.csv'))\n",
    "# df.columns = [i.replace('-', '_') for i in df.columns]\n",
    "\n",
    "# df_split= np.array_split(df, n_splits)\n",
    "\n",
    "# for i in range(len(df_split)):\n",
    "#     df_split[i].to_csv(Path(split_path / \"census.split_{}.csv\".format(i)), encoding='utf-8', index=False)\n",
    "\n",
    "# !zip -r /content/census.splits.zip /content/census.splits"
   ]
  },
  {
   "cell_type": "code",
   "execution_count": null,
   "metadata": {
    "id": "khbzkeo-vENs"
   },
   "outputs": [],
   "source": [
    "# for i in range(n_splits):\n",
    "#     cur.executescript('''drop table if exists split_{};\n",
    "#                         create table split_{}\n",
    "#                         (age int, work_class text, fnlwgt int, education text, education_num int, marital_status text, occupation text, relationship text, \n",
    "#                         race text, sex text, capital_gain int, capital_loss int, hours_per_week int, native_country text, class text)'''.format(i, i))\n",
    "    \n",
    "#     # change this to psql\n",
    "#     df = pd.DataFrame(pd.read_csv('/content/census.splits/census.split_{}.csv'.format(i)))\n",
    "#     for row in df.itertuples():\n",
    "#         cur.execute('''\n",
    "#                   INSERT INTO split_{} (age, work_class, fnlwgt, education, education_num, marital_status, occupation, relationship, \n",
    "#                   race, sex, capital_gain, capital_loss, hours_per_week, native_country, class)\n",
    "#                   VALUES (?,?,?,?,?,?,?,?,?,?,?,?,?,?,?)\n",
    "#                   '''.format(i),\n",
    "#                   (row.AGE, row.WORK_CLASS, row.FNLWGT, row.EDUCATION, row.EDUCATION_NUM, row.MARITAL_STATUS, row.OCCUPATION, row.RELATIONSHIP, \n",
    "#                   row.RACE, row.SEX, row.CAPITAL_GAIN, row.CAPITAL_LOSS, row.HOURS_PER_WEEK, row.NATIVE_COUNTRY, row.CLASS)\n",
    "#                   )   \n",
    "\n",
    "# conn.commit()\n",
    "# census_view_query = 'drop view if exists census_view; create view census_view as select * from split_0'\n",
    "# for i in range(1, n_splits):\n",
    "#     census_view_query += ' union select * from split_{}'.format(i)\n",
    "# census_view_query += ';'\n",
    "# cur.executescript(census_view_query)\n",
    "# conn.commit()"
   ]
  },
  {
   "cell_type": "code",
   "execution_count": null,
   "metadata": {
    "id": "O8bc_6_avMfY"
   },
   "outputs": [],
   "source": [
    "# n_phases = n_splits\n",
    "# for i in range(n_phases):\n",
    "#     query = \"\"\"drop view if exists split_{0}_married; create view split_{0}_married as select * from split_{0} where marital_status in ('Married-AF-spouse', 'Married-civ-spouse', 'Married-spouse-absent','Separated');\n",
    "#            drop view if exists split_{0}_unmarried; create view split_{0}_unmarried as select * from split_{0} where marital_status in ('Never-married', 'Widowed','Divorced');\"\"\".format(i)\n",
    "#     cur.executescript(query)\n",
    "#     conn.commit()"
   ]
  },
  {
   "cell_type": "code",
   "execution_count": null,
   "metadata": {},
   "outputs": [],
   "source": []
  },
  {
   "cell_type": "code",
   "execution_count": null,
   "metadata": {},
   "outputs": [],
   "source": []
  },
  {
   "cell_type": "code",
   "execution_count": null,
   "metadata": {},
   "outputs": [],
   "source": []
  },
  {
   "cell_type": "code",
   "execution_count": null,
   "metadata": {},
   "outputs": [],
   "source": []
  }
 ],
 "metadata": {
  "colab": {
   "collapsed_sections": [],
   "name": "SeeDB.ipynb",
   "provenance": []
  },
  "kernelspec": {
   "display_name": "Python 3 (ipykernel)",
   "language": "python",
   "name": "python3"
  },
  "language_info": {
   "codemirror_mode": {
    "name": "ipython",
    "version": 3
   },
   "file_extension": ".py",
   "mimetype": "text/x-python",
   "name": "python",
   "nbconvert_exporter": "python",
   "pygments_lexer": "ipython3",
   "version": "3.8.8"
  }
 },
 "nbformat": 4,
 "nbformat_minor": 4
}
