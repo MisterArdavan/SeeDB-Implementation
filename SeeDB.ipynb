{
 "cells": [
  {
   "cell_type": "code",
   "execution_count": 11,
   "metadata": {
    "id": "JyCTH6bNwcMd"
   },
   "outputs": [],
   "source": [
    "# dependencies and libraries\n",
    "import sqlite3\n",
    "import io\n",
    "import pandas as pd\n",
    "import numpy as np\n",
    "from collections import defaultdict\n",
    "from pathlib import Path\n",
    "from decimal import Decimal\n",
    "from scipy.stats import wasserstein_distance, entropy\n",
    "import matplotlib.pyplot as plt\n",
    "%matplotlib inline \n",
    "plt.rcParams[\"figure.figsize\"] = (10, 8)\n",
    "plt.rc('xtick', labelsize=14) \n",
    "plt.rc('ytick', labelsize=14)"
   ]
  },
  {
   "cell_type": "code",
   "execution_count": 12,
   "metadata": {
    "id": "n8yY5YHCwKL0"
   },
   "outputs": [],
   "source": [
    "conn = sqlite3.connect(\"SeeDb.db\")\n",
    "cursor = conn.cursor()\n",
    "agg_funcs = ['avg', 'sum', 'count', 'min', 'max']\n",
    "dimensions = ['sex', 'work_class', 'education', 'marital_status', 'occupation', 'relationship', \n",
    "                  'race', 'native_country', 'class']\n",
    "measures = ['age','fnlwgt', 'education_num', 'capital_gain', 'capital_loss', 'hours_per_week']\n",
    "epsilon = Decimal(1e-8)\n",
    "n_partition = 10\n",
    "S_row = 10000"
   ]
  },
  {
   "cell_type": "code",
   "execution_count": 7,
   "metadata": {
    "id": "4nCZ0x4lfDg1"
   },
   "outputs": [],
   "source": [
    "#this cell has the functions definitions responsible to create, fill and query the database\n",
    "#run this cell once whenever the notebook is disconnected to create the database and fill it locally\n",
    "\n",
    "def create_fill_database(): \n",
    "  # Drop table if it exists\n",
    "  cursor.execute('''DROP TABLE IF EXISTS census''')\n",
    "  # Create table\n",
    "  cursor.execute('''CREATE TABLE census\n",
    "                (age int, work_class text, fnlwgt int, education text, education_num int, marital_status text, occupation text, relationship text, \n",
    "                race text, sex text, capital_gain int, capital_loss int, hours_per_week int, native_country text, class text)''')\n",
    "\n",
    "  #fill the database\n",
    "  df = pd.DataFrame(pd.read_csv('adultdata.csv'))\n",
    "  for row in df.itertuples():\n",
    "      cursor.execute('''\n",
    "                  INSERT INTO census (age, work_class, fnlwgt, education, education_num, marital_status, occupation, relationship, \n",
    "                  race, sex, capital_gain, capital_loss, hours_per_week, native_country, class)\n",
    "                  VALUES (?,?,?,?,?,?,?,?,?,?,?,?,?,?,?)\n",
    "                  ''',\n",
    "                  (row.AGE, row.WORK_CLASS, row.FNLWGT, row.EDUCATION, row.EDUCATION_NUM, row.MARITAL_STATUS, row.OCCUPATION, row.RELATIONSHIP, \n",
    "                  row.RACE, row.SEX, row.CAPITAL_GAIN, row.CAPITAL_LOSS, row.HOURS_PER_WEEK, row.NATIVE_COUNTRY, row.CLASS)\n",
    "                  )   \n",
    "  conn.commit()\n",
    "  #conn.close()\n",
    "  \n",
    "create_fill_database()\n"
   ]
  },
  {
   "cell_type": "markdown",
   "metadata": {
    "id": "enWr0ndKIvSI"
   },
   "source": [
    "## Phase-based Execution Framework:"
   ]
  },
  {
   "cell_type": "code",
   "execution_count": 13,
   "metadata": {
    "id": "4I5tL89f2mKi"
   },
   "outputs": [],
   "source": [
    "def execute_query(query):\n",
    "  \"\"\"Returns a dataframe object with all the resulting records\n",
    "  Arguments:\n",
    "    query: The query to execute\"\"\"\n",
    "  records_df = pd.read_sql_query(query, conn)\n",
    "  return records_df\n",
    "\n",
    "\n",
    "def partition_DB(n):\n",
    "  \"\"\"Returns a list of each partition starting point\n",
    "  Arguments:\n",
    "    n: number of partitions\n",
    "    \"\"\"\n",
    "  records_count = execute_query(\"select count(*) from census\").iloc[0]\n",
    "  \n",
    "  partition_size = int(records_count/n)\n",
    "  range_start = []\n",
    "  for i in range(n):\n",
    "    range_start.append(i*partition_size)\n",
    "  return range_start\n",
    "\n",
    "\n",
    "def run_query_on_partition(query, start, end = -1):\n",
    "  \"\"\"Execute query on dataset partition\n",
    "  Arguments:\n",
    "    query: query to execute\n",
    "    start: start of the dataset partition (not inclusive)\n",
    "    end: end of the dataset partition (inclusive) (default -1 for the last partition)\n",
    "  Returns:\n",
    "    Dataframe containing result of executing the query on the dataset partition \n",
    "  \"\"\"\n",
    "  part1 = query\n",
    "  part2 = \"\"\n",
    "  idx = query.lower().find(\"group by\")\n",
    "  if idx != -1:\n",
    "    part1 = query[:idx]\n",
    "    part2 = query[idx:]\n",
    "\n",
    "  if \"where\" in part1.lower():\n",
    "    part1 += \" AND rowid > \" + str(start)\n",
    "  else:\n",
    "    part1 += \" where rowid > \" + str(start)\n",
    "  \n",
    "  if end != -1:\n",
    "    part1 += \" AND rowid <= \" + str(end)\n",
    "  \n",
    "  return execute_query(part1 + \" \" + part2)"
   ]
  },
  {
   "cell_type": "markdown",
   "metadata": {
    "id": "AN7ZuEB94PvM"
   },
   "source": [
    "## Sharing-based Optimizations:"
   ]
  },
  {
   "cell_type": "code",
   "execution_count": 14,
   "metadata": {
    "id": "IVR7X8B6ifCY"
   },
   "outputs": [],
   "source": [
    "def get_all_views():\n",
    "  \"\"\"Returns all possible views which is m*a*f views\"\"\"\n",
    "  views = []\n",
    "  for f in agg_funcs:\n",
    "      for a in dimensions:\n",
    "          for m in measures:\n",
    "              views.append((a, m, f))\n",
    "\n",
    "  print('Total number of views: {}'.format(len(views)))\n",
    "  return views"
   ]
  },
  {
   "cell_type": "markdown",
   "metadata": {
    "id": "PnRDlvlCPeV8"
   },
   "source": [
    "Implementation of First-Fit Decreasing Algorithm:"
   ]
  },
  {
   "cell_type": "code",
   "execution_count": 15,
   "metadata": {
    "colab": {
     "base_uri": "https://localhost:8080/"
    },
    "id": "Mu5KDbnKPb5s",
    "outputId": "aafd737f-36bb-43de-b367-58e2d974613a"
   },
   "outputs": [
    {
     "data": {
      "text/plain": [
       "[['native_country', 'education', 'occupation'],\n",
       " ['work_class', 'marital_status', 'relationship', 'race', 'sex', 'class']]"
      ]
     },
     "execution_count": 15,
     "metadata": {},
     "output_type": "execute_result"
    }
   ],
   "source": [
    "import operator\n",
    "class Bin:\n",
    "    def __init__(self, c):\n",
    "        self.items = []\n",
    "        self.remaining_cap = c\n",
    "    \n",
    "    def add(self, dimension, weight):\n",
    "        self.items.append(dimension)\n",
    "        self.remaining_cap -= weight\n",
    "\n",
    "    def get_dimensions(self):\n",
    "        return self.items\n",
    "\n",
    "    def get_cap(self):\n",
    "        return self.remaining_cap\n",
    "\n",
    "def first_fit(dimensions, c):\n",
    "    bins = []\n",
    "    # add first bin\n",
    "    bins.append(Bin(c))\n",
    "    for dimension, weight in dimensions:\n",
    "        need_new_bin = True\n",
    "        for bin in bins:\n",
    "            if bin.get_cap() >= weight:\n",
    "                bin.add(dimension, weight)\n",
    "                need_new_bin = False\n",
    "                break\n",
    "        if need_new_bin:\n",
    "            bins.append(Bin(c))\n",
    "            bins[-1].add(dimension, weight)\n",
    "\n",
    "    return [b.get_dimensions() for b in bins]\n",
    "\n",
    "def first_fit_dec(dimensions, c):\n",
    "    sorted_dims = sorted(dimensions.items(), key=operator.itemgetter(1), reverse=True)\n",
    "    return (first_fit(sorted_dims, c))\n",
    "\n",
    "def get_distinct_dimension_counts_log10():\n",
    "    count_str = []\n",
    "    for d in dimensions:\n",
    "        count_str.append('count(distinct {0}) as {0}'.format(d))\n",
    "    count_str=\", \".join(count_str)\n",
    "    query = \"SELECT {} FROM census\".format(count_str)\n",
    "    output = execute_query(query)\n",
    "    log_values = np.log10(np.array(output)[0]) # because the output is [[2, 7, 16, 7, 14, 6, 5, 41, 2]]\n",
    "    column_names = output.columns \n",
    "    return dict(zip(column_names, log_values))\n",
    "\n",
    "dist_dimension_count_log10s = get_distinct_dimension_counts_log10()\n",
    "#print(dist_dimension_count_log10s)\n",
    "\n",
    "first_fit_dec(dist_dimension_count_log10s, np.log10(S_row))"
   ]
  },
  {
   "cell_type": "code",
   "execution_count": 16,
   "metadata": {
    "id": "2skrhNBj4Uhc"
   },
   "outputs": [],
   "source": [
    "def get_combined_queries():\n",
    "    queries = []\n",
    "    dimensions_str = ', '.join(dimensions)\n",
    "    measures_str = []\n",
    "    for f in agg_funcs:\n",
    "        for m in measures:\n",
    "            measures_str.append('{0}({1}) as {0}_{1}'.format(f, m))\n",
    "    measures_str = ', '.join(measures_str)\n",
    "    \n",
    "    #group_by_str = dimensions_str\n",
    "    \n",
    "    ref_target_string = \"\"\", CASE WHEN marital_status in ('Married-AF-spouse', 'Married-civ-spouse', 'Married-spouse-absent') THEN 'Married' ELSE 'Unmarried' END Grouped_Marital_Status \"\"\"\n",
    "    dimensions_str += ref_target_string\n",
    "    \n",
    "    #get the best combination of group by attributes to fit in memory\n",
    "    dist_dimension_count_log10s = get_distinct_dimension_counts_log10()\n",
    "    group_by_lists = first_fit_dec(dist_dimension_count_log10s, np.log10(10000))\n",
    "    for group in group_by_lists:\n",
    "        group_by_str = ', '.join(group)\n",
    "        group_by_str += \", grouped_marital_status\"\n",
    "        queries.append('select {}, {} from census group by {};'.format(dimensions_str, measures_str, group_by_str))\n",
    "\n",
    "        \n",
    "    #queries.append('select {}, {} from census group by {};'.format(dimensions_str, measures_str, group_by_str))\n",
    "    #where_strs = [\"marital_status in ('Married-AF-spouse', 'Married-civ-spouse', 'Married-spouse-absent')\", \"marital_status in ('Never-married', 'Widowed', 'Divorced', 'Separated')\"]\n",
    "    # for i in range(len(dimensions) - 1):\n",
    "    #     where_str += \"not trim({})='?' and \".format(dimensions[i])\n",
    "    # where_str += \" not trim({})='?'\".format(dimensions[-1])\n",
    "    # for where_str in where_strs:\n",
    "    #     queries.append('select {}, {} from census where {} group by {};'.format(dimensions_str, measures_str, where_str, group_by_str))\n",
    "    return queries"
   ]
  },
  {
   "cell_type": "code",
   "execution_count": 17,
   "metadata": {
    "colab": {
     "base_uri": "https://localhost:8080/",
     "height": 525
    },
    "id": "JBVbzomuSNVY",
    "outputId": "c04b77d8-c115-4c85-9638-ce4dc7361bf4"
   },
   "outputs": [],
   "source": [
    "def execute_combined_queries_on_partition(part_start, part_end):\n",
    "    combined_queries = get_combined_queries()\n",
    "    results = []\n",
    "\n",
    "    for query in combined_queries:\n",
    "        result_df = run_query_on_partition(query, part_start, part_end)\n",
    "        results.append(result_df)\n",
    "    return results"
   ]
  },
  {
   "cell_type": "markdown",
   "metadata": {
    "id": "ICGjwtipJS64"
   },
   "source": [
    "Calculate utilities for combined GROUP-BYs:"
   ]
  },
  {
   "cell_type": "code",
   "execution_count": 18,
   "metadata": {
    "colab": {
     "base_uri": "https://localhost:8080/"
    },
    "id": "idSQIouHSMes",
    "outputId": "430f1b83-a50f-4913-ef63-227671682b60"
   },
   "outputs": [
    {
     "ename": "NameError",
     "evalue": "name 'results' is not defined",
     "output_type": "error",
     "traceback": [
      "\u001b[1;31m---------------------------------------------------------------------------\u001b[0m",
      "\u001b[1;31mNameError\u001b[0m                                 Traceback (most recent call last)",
      "\u001b[1;32m<ipython-input-18-f98fda7f35cf>\u001b[0m in \u001b[0;36m<module>\u001b[1;34m\u001b[0m\n\u001b[0;32m     95\u001b[0m     \u001b[1;32mreturn\u001b[0m \u001b[0mutilities\u001b[0m\u001b[1;33m\u001b[0m\u001b[1;33m\u001b[0m\u001b[0m\n\u001b[0;32m     96\u001b[0m \u001b[1;33m\u001b[0m\u001b[0m\n\u001b[1;32m---> 97\u001b[1;33m \u001b[0mview_utilities\u001b[0m \u001b[1;33m=\u001b[0m \u001b[0mcalc_utilities\u001b[0m\u001b[1;33m(\u001b[0m\u001b[0mresults\u001b[0m\u001b[1;33m[\u001b[0m\u001b[1;36m0\u001b[0m\u001b[1;33m:\u001b[0m\u001b[1;36m2\u001b[0m\u001b[1;33m]\u001b[0m\u001b[1;33m)\u001b[0m \u001b[1;31m# we should change here Hadeel\u001b[0m\u001b[1;33m\u001b[0m\u001b[1;33m\u001b[0m\u001b[0m\n\u001b[0m\u001b[0;32m     98\u001b[0m \u001b[0mview_utilities\u001b[0m\u001b[1;33m\u001b[0m\u001b[1;33m\u001b[0m\u001b[0m\n",
      "\u001b[1;31mNameError\u001b[0m: name 'results' is not defined"
     ]
    }
   ],
   "source": [
    "def kl_divergence(target_agg_vals, ref_agg_vals):\n",
    "    # normalize\n",
    "    target_agg_vals = np.array(target_agg_vals, dtype=float)\n",
    "    ref_agg_vals = np.array(ref_agg_vals, dtype=float)\n",
    "    t_sum = sum(target_agg_vals)\n",
    "    r_sum = sum(ref_agg_vals)\n",
    "    t_norm = [i/t_sum for i in target_agg_vals]\n",
    "    r_norm = [i/r_sum for i in ref_agg_vals]\n",
    "    # calculate divergence\n",
    "    return entropy(t_norm, r_norm)\n",
    "\n",
    "def calculate_utility(target_agg_vals, ref_agg_vals):\n",
    "    # Earth Mover's Distance\n",
    "    # return wasserstein_distance(target_agg_vals, ref_agg_vals)\n",
    "    # KL Divergence\n",
    "    return kl_divergence(target_agg_vals, ref_agg_vals)\n",
    "\n",
    "def get_target_and_ref_aggregated_fms(aggregated_fms):\n",
    "    # Now we make sure the same values for dimension attributes exist in the mapping for both target and reference. \n",
    "    #Then, we can return the list of aggregate function values corresponding to those dimension values to be used for calculating utility.\n",
    "\n",
    "    target_fms = aggregated_fms[0]\n",
    "    ref_fms = aggregated_fms[1]\n",
    "    dim_agg_pairs = defaultdict(list)\n",
    "    target_agg_vals = []\n",
    "    ref_agg_vals = []\n",
    "\n",
    "    for dimension_val, agg_val in target_fms.items():\n",
    "        if agg_val == 0:\n",
    "            temp = epsilon\n",
    "        else:\n",
    "            temp = agg_val\n",
    "        dim_agg_pairs[dimension_val].append(temp)\n",
    "\n",
    "    for dimension_val, agg_val in ref_fms.items():\n",
    "        if dimension_val not in dim_agg_pairs: # dim_val in ref but not in target\n",
    "            dim_agg_pairs[dimension_val].append(epsilon)\n",
    "        \n",
    "        if agg_val == 0:\n",
    "            temp = epsilon\n",
    "        else:\n",
    "            temp = agg_val\n",
    "        dim_agg_pairs[dimension_val].append(temp)\n",
    "\n",
    "    for dim_val, agg_vals in dim_agg_pairs.items():\n",
    "        if len(agg_vals) < 2: # dim_val in target but not in ref\n",
    "            dim_agg_pairs[dim_val].append(epsilon)\n",
    "        \n",
    "    for agg_vals in dim_agg_pairs.values():\n",
    "        target_agg_vals.append(agg_vals[0])\n",
    "        ref_agg_vals.append(agg_vals[1])\n",
    "\n",
    "    return target_agg_vals, ref_agg_vals\n",
    "\n",
    "def calculate_dimension_avg(fm_values, count_ms):\n",
    "    agg_val_sum = 0\n",
    "    count_sum = 0\n",
    "    for fm, count in zip(fm_values, count_ms):\n",
    "        count_sum += count\n",
    "        agg_val_sum += fm * count\n",
    "    if count_sum != 0:\n",
    "        return agg_val_sum/count_sum\n",
    "    else:\n",
    "        return epsilon\n",
    "\n",
    "def calculate_aggregate_value(dim_val, fm_values, agg_func, result, m, a):\n",
    "    if agg_func == 'avg':\n",
    "        count_ms=list(result[result[a] == dim_val][\"count_{}\".format(m)]) # count(m) for the corresponding row\n",
    "        return calculate_dimension_avg(count_ms, fm_values)\n",
    "    elif agg_func == 'min':\n",
    "        return min(fm_values)\n",
    "    elif agg_func == 'max':\n",
    "        return max(fm_values)\n",
    "    elif agg_func == 'sum':\n",
    "        return sum(fm_values)\n",
    "    elif agg_func == 'count':\n",
    "        return sum(fm_values)\n",
    "    else:\n",
    "        raise ValueError(\"Aggregate function cannot be {} for dimension value {}!\".format(agg_func, dim_val))\n",
    "\n",
    "\n",
    "def calc_utilities(results):\n",
    "    utilities = {}\n",
    "    aggregated_fms = [defaultdict(list), defaultdict(list)]\n",
    "    for (a, m, f) in get_all_views():\n",
    "        for i in range(len(results)): # for target and reference results\n",
    "            result = results[i]\n",
    "            for dim_val in result[a].unique(): # for every value of a dimension\n",
    "                # if dim_val == '?':\n",
    "                #     continue\n",
    "                fm_values=list(result[result[a] == dim_val][\"{}_{}\".format(f,m)]) # get all of corresponding f(m) values\n",
    "                aggregated_fms[i][dim_val] = calculate_aggregate_value(dim_val, fm_values, f, result, m, a)\n",
    "                target_agg_vals, ref_agg_vals = get_target_and_ref_aggregated_fms(aggregated_fms)\n",
    "        utilities[(a, m, f)] = (calculate_utility(target_agg_vals, ref_agg_vals))\n",
    "    return utilities\n",
    "\n",
    "view_utilities = calc_utilities(results[0:2]) # we should change here Hadeel\n",
    "view_utilities"
   ]
  },
  {
   "cell_type": "markdown",
   "metadata": {
    "id": "2CPMzlCc-fgI"
   },
   "source": [
    "### Visualizing top k queries:"
   ]
  },
  {
   "cell_type": "code",
   "execution_count": 19,
   "metadata": {},
   "outputs": [],
   "source": [
    "\n",
    "def test_function():\n",
    "    #partition the db\n",
    "    n = 10\n",
    "    all_partitions_start = partition_DB(n)\n",
    "    views_utilities = [[]]\n",
    "    for i in range(n):\n",
    "        part_start = all_partitions_start[i]\n",
    "        part_end = -1 if (i == n-1) else all_partitions_start[i+1]\n",
    "        #shared based opt\n",
    "        results = execute_combined_queries_on_partition(part_start, part_end)\n",
    "        for res in results:\n",
    "            #divide into target and ref\n",
    "            target_rows = res.loc[res['Grouped_Marital_Status']=='Married']\n",
    "            reference_rows = res.loc[res['Grouped_Marital_Status']=='Unmarried']\n",
    "            views_utilities[i].append(calc_utilities(target_rows, reference_rows))\n",
    "\n",
    "            #run the pruning optimization\n",
    "            top_views = prune_views(views_utilities)\n",
    "\n",
    "            draw_views(top_views)\n",
    "    return top_views"
   ]
  },
  {
   "cell_type": "code",
   "execution_count": null,
   "metadata": {
    "colab": {
     "base_uri": "https://localhost:8080/"
    },
    "id": "flpq1HdB78GU",
    "outputId": "89976577-97ff-4125-967c-917f777d4aaf"
   },
   "outputs": [
    {
     "data": {
      "text/plain": [
       "[(('marital_status', 'fnlwgt', 'sum'), 37.7958485905924),\n",
       " (('relationship', 'fnlwgt', 'sum'), 35.85922925537636),\n",
       " (('marital_status', 'fnlwgt', 'max'), 32.269467639637604),\n",
       " (('marital_status', 'capital_gain', 'sum'), 29.65112484280034),\n",
       " (('marital_status', 'capital_gain', 'max'), 29.465731147876216),\n",
       " (('relationship', 'capital_gain', 'sum'), 28.369322042544738),\n",
       " (('marital_status', 'fnlwgt', 'min'), 26.610751175325454),\n",
       " (('relationship', 'capital_gain', 'max'), 25.57869033503214),\n",
       " (('native_country', 'capital_gain', 'max'), 17.32342551559357),\n",
       " (('native_country', 'capital_loss', 'max'), 17.0370549301097)]"
      ]
     },
     "execution_count": 24,
     "metadata": {},
     "output_type": "execute_result"
    }
   ],
   "source": [
    "k = 10\n",
    "\n",
    "def get_top_k_views(view_utilities, k):\n",
    "    return sorted(view_utilities.items(), key= lambda item: item[1], reverse=True)[:k]\n",
    "\n",
    "\n",
    "get_top_k_views(view_utilities, k)"
   ]
  },
  {
   "cell_type": "code",
   "execution_count": 34,
   "metadata": {
    "id": "P1oCvqdW-eLw"
   },
   "outputs": [
    {
     "data": {
      "image/png": "[encoded data removed]",
      "text/plain": [
       "<Figure size 720x576 with 1 Axes>"
      ]
     },
     "metadata": {
      "needs_background": "light"
     },
     "output_type": "display_data"
    },
    {
     "ename": "ValueError",
     "evalue": "shape mismatch: objects cannot be broadcast to a single shape",
     "output_type": "error",
     "traceback": [
      "\u001b[1;31m---------------------------------------------------------------------------\u001b[0m",
      "\u001b[1;31mValueError\u001b[0m                                Traceback (most recent call last)",
      "\u001b[1;32m<ipython-input-34-d7511d526742>\u001b[0m in \u001b[0;36m<module>\u001b[1;34m\u001b[0m\n\u001b[0;32m     58\u001b[0m \u001b[1;33m\u001b[0m\u001b[0m\n\u001b[0;32m     59\u001b[0m \u001b[1;33m\u001b[0m\u001b[0m\n\u001b[1;32m---> 60\u001b[1;33m \u001b[0mdraw_views\u001b[0m\u001b[1;33m(\u001b[0m\u001b[0mviews_list\u001b[0m\u001b[1;33m)\u001b[0m\u001b[1;33m\u001b[0m\u001b[1;33m\u001b[0m\u001b[0m\n\u001b[0m",
      "\u001b[1;32m<ipython-input-34-d7511d526742>\u001b[0m in \u001b[0;36mdraw_views\u001b[1;34m(views_list)\u001b[0m\n\u001b[0;32m     42\u001b[0m         \u001b[0mopacity\u001b[0m \u001b[1;33m=\u001b[0m \u001b[1;36m0.8\u001b[0m\u001b[1;33m\u001b[0m\u001b[1;33m\u001b[0m\u001b[0m\n\u001b[0;32m     43\u001b[0m \u001b[1;33m\u001b[0m\u001b[0m\n\u001b[1;32m---> 44\u001b[1;33m         \u001b[0mrects1\u001b[0m \u001b[1;33m=\u001b[0m \u001b[0mplt\u001b[0m\u001b[1;33m.\u001b[0m\u001b[0mbar\u001b[0m\u001b[1;33m(\u001b[0m\u001b[0mindex\u001b[0m\u001b[1;33m,\u001b[0m \u001b[0mref_val\u001b[0m\u001b[1;33m,\u001b[0m \u001b[0mbar_width\u001b[0m\u001b[1;33m,\u001b[0m \u001b[0malpha\u001b[0m\u001b[1;33m=\u001b[0m\u001b[0mopacity\u001b[0m\u001b[1;33m,\u001b[0m \u001b[0mcolor\u001b[0m\u001b[1;33m=\u001b[0m\u001b[1;34m'c'\u001b[0m\u001b[1;33m,\u001b[0m \u001b[0mlabel\u001b[0m\u001b[1;33m=\u001b[0m\u001b[1;34m'unmarried'\u001b[0m\u001b[1;33m)\u001b[0m\u001b[1;33m\u001b[0m\u001b[1;33m\u001b[0m\u001b[0m\n\u001b[0m\u001b[0;32m     45\u001b[0m         \u001b[0mrects2\u001b[0m \u001b[1;33m=\u001b[0m \u001b[0mplt\u001b[0m\u001b[1;33m.\u001b[0m\u001b[0mbar\u001b[0m\u001b[1;33m(\u001b[0m\u001b[0mindex\u001b[0m \u001b[1;33m+\u001b[0m \u001b[0mbar_width\u001b[0m\u001b[1;33m,\u001b[0m \u001b[0mtarget_val\u001b[0m\u001b[1;33m,\u001b[0m \u001b[0mbar_width\u001b[0m\u001b[1;33m,\u001b[0m \u001b[0malpha\u001b[0m\u001b[1;33m=\u001b[0m\u001b[0mopacity\u001b[0m\u001b[1;33m,\u001b[0m \u001b[0mcolor\u001b[0m\u001b[1;33m=\u001b[0m\u001b[1;34m'b'\u001b[0m\u001b[1;33m,\u001b[0m \u001b[0mlabel\u001b[0m\u001b[1;33m=\u001b[0m\u001b[1;34m'married'\u001b[0m\u001b[1;33m)\u001b[0m\u001b[1;33m\u001b[0m\u001b[1;33m\u001b[0m\u001b[0m\n\u001b[0;32m     46\u001b[0m \u001b[1;33m\u001b[0m\u001b[0m\n",
      "\u001b[1;32m~\\anaconda3\\lib\\site-packages\\matplotlib\\pyplot.py\u001b[0m in \u001b[0;36mbar\u001b[1;34m(x, height, width, bottom, align, data, **kwargs)\u001b[0m\n\u001b[0;32m   2485\u001b[0m         \u001b[0mx\u001b[0m\u001b[1;33m,\u001b[0m \u001b[0mheight\u001b[0m\u001b[1;33m,\u001b[0m \u001b[0mwidth\u001b[0m\u001b[1;33m=\u001b[0m\u001b[1;36m0.8\u001b[0m\u001b[1;33m,\u001b[0m \u001b[0mbottom\u001b[0m\u001b[1;33m=\u001b[0m\u001b[1;32mNone\u001b[0m\u001b[1;33m,\u001b[0m \u001b[1;33m*\u001b[0m\u001b[1;33m,\u001b[0m \u001b[0malign\u001b[0m\u001b[1;33m=\u001b[0m\u001b[1;34m'center'\u001b[0m\u001b[1;33m,\u001b[0m\u001b[1;33m\u001b[0m\u001b[1;33m\u001b[0m\u001b[0m\n\u001b[0;32m   2486\u001b[0m         data=None, **kwargs):\n\u001b[1;32m-> 2487\u001b[1;33m     return gca().bar(\n\u001b[0m\u001b[0;32m   2488\u001b[0m         \u001b[0mx\u001b[0m\u001b[1;33m,\u001b[0m \u001b[0mheight\u001b[0m\u001b[1;33m,\u001b[0m \u001b[0mwidth\u001b[0m\u001b[1;33m=\u001b[0m\u001b[0mwidth\u001b[0m\u001b[1;33m,\u001b[0m \u001b[0mbottom\u001b[0m\u001b[1;33m=\u001b[0m\u001b[0mbottom\u001b[0m\u001b[1;33m,\u001b[0m \u001b[0malign\u001b[0m\u001b[1;33m=\u001b[0m\u001b[0malign\u001b[0m\u001b[1;33m,\u001b[0m\u001b[1;33m\u001b[0m\u001b[1;33m\u001b[0m\u001b[0m\n\u001b[0;32m   2489\u001b[0m         **({\"data\": data} if data is not None else {}), **kwargs)\n",
      "\u001b[1;32m~\\anaconda3\\lib\\site-packages\\matplotlib\\__init__.py\u001b[0m in \u001b[0;36minner\u001b[1;34m(ax, data, *args, **kwargs)\u001b[0m\n\u001b[0;32m   1445\u001b[0m     \u001b[1;32mdef\u001b[0m \u001b[0minner\u001b[0m\u001b[1;33m(\u001b[0m\u001b[0max\u001b[0m\u001b[1;33m,\u001b[0m \u001b[1;33m*\u001b[0m\u001b[0margs\u001b[0m\u001b[1;33m,\u001b[0m \u001b[0mdata\u001b[0m\u001b[1;33m=\u001b[0m\u001b[1;32mNone\u001b[0m\u001b[1;33m,\u001b[0m \u001b[1;33m**\u001b[0m\u001b[0mkwargs\u001b[0m\u001b[1;33m)\u001b[0m\u001b[1;33m:\u001b[0m\u001b[1;33m\u001b[0m\u001b[1;33m\u001b[0m\u001b[0m\n\u001b[0;32m   1446\u001b[0m         \u001b[1;32mif\u001b[0m \u001b[0mdata\u001b[0m \u001b[1;32mis\u001b[0m \u001b[1;32mNone\u001b[0m\u001b[1;33m:\u001b[0m\u001b[1;33m\u001b[0m\u001b[1;33m\u001b[0m\u001b[0m\n\u001b[1;32m-> 1447\u001b[1;33m             \u001b[1;32mreturn\u001b[0m \u001b[0mfunc\u001b[0m\u001b[1;33m(\u001b[0m\u001b[0max\u001b[0m\u001b[1;33m,\u001b[0m \u001b[1;33m*\u001b[0m\u001b[0mmap\u001b[0m\u001b[1;33m(\u001b[0m\u001b[0msanitize_sequence\u001b[0m\u001b[1;33m,\u001b[0m \u001b[0margs\u001b[0m\u001b[1;33m)\u001b[0m\u001b[1;33m,\u001b[0m \u001b[1;33m**\u001b[0m\u001b[0mkwargs\u001b[0m\u001b[1;33m)\u001b[0m\u001b[1;33m\u001b[0m\u001b[1;33m\u001b[0m\u001b[0m\n\u001b[0m\u001b[0;32m   1448\u001b[0m \u001b[1;33m\u001b[0m\u001b[0m\n\u001b[0;32m   1449\u001b[0m         \u001b[0mbound\u001b[0m \u001b[1;33m=\u001b[0m \u001b[0mnew_sig\u001b[0m\u001b[1;33m.\u001b[0m\u001b[0mbind\u001b[0m\u001b[1;33m(\u001b[0m\u001b[0max\u001b[0m\u001b[1;33m,\u001b[0m \u001b[1;33m*\u001b[0m\u001b[0margs\u001b[0m\u001b[1;33m,\u001b[0m \u001b[1;33m**\u001b[0m\u001b[0mkwargs\u001b[0m\u001b[1;33m)\u001b[0m\u001b[1;33m\u001b[0m\u001b[1;33m\u001b[0m\u001b[0m\n",
      "\u001b[1;32m~\\anaconda3\\lib\\site-packages\\matplotlib\\axes\\_axes.py\u001b[0m in \u001b[0;36mbar\u001b[1;34m(self, x, height, width, bottom, align, **kwargs)\u001b[0m\n\u001b[0;32m   2428\u001b[0m                 \u001b[0myerr\u001b[0m \u001b[1;33m=\u001b[0m \u001b[0mself\u001b[0m\u001b[1;33m.\u001b[0m\u001b[0m_convert_dx\u001b[0m\u001b[1;33m(\u001b[0m\u001b[0myerr\u001b[0m\u001b[1;33m,\u001b[0m \u001b[0my0\u001b[0m\u001b[1;33m,\u001b[0m \u001b[0my\u001b[0m\u001b[1;33m,\u001b[0m \u001b[0mself\u001b[0m\u001b[1;33m.\u001b[0m\u001b[0mconvert_yunits\u001b[0m\u001b[1;33m)\u001b[0m\u001b[1;33m\u001b[0m\u001b[1;33m\u001b[0m\u001b[0m\n\u001b[0;32m   2429\u001b[0m \u001b[1;33m\u001b[0m\u001b[0m\n\u001b[1;32m-> 2430\u001b[1;33m         x, height, width, y, linewidth = np.broadcast_arrays(\n\u001b[0m\u001b[0;32m   2431\u001b[0m             \u001b[1;31m# Make args iterable too.\u001b[0m\u001b[1;33m\u001b[0m\u001b[1;33m\u001b[0m\u001b[1;33m\u001b[0m\u001b[0m\n\u001b[0;32m   2432\u001b[0m             np.atleast_1d(x), height, width, y, linewidth)\n",
      "\u001b[1;32m<__array_function__ internals>\u001b[0m in \u001b[0;36mbroadcast_arrays\u001b[1;34m(*args, **kwargs)\u001b[0m\n",
      "\u001b[1;32m~\\anaconda3\\lib\\site-packages\\numpy\\lib\\stride_tricks.py\u001b[0m in \u001b[0;36mbroadcast_arrays\u001b[1;34m(subok, *args)\u001b[0m\n\u001b[0;32m    536\u001b[0m     \u001b[0margs\u001b[0m \u001b[1;33m=\u001b[0m \u001b[1;33m[\u001b[0m\u001b[0mnp\u001b[0m\u001b[1;33m.\u001b[0m\u001b[0marray\u001b[0m\u001b[1;33m(\u001b[0m\u001b[0m_m\u001b[0m\u001b[1;33m,\u001b[0m \u001b[0mcopy\u001b[0m\u001b[1;33m=\u001b[0m\u001b[1;32mFalse\u001b[0m\u001b[1;33m,\u001b[0m \u001b[0msubok\u001b[0m\u001b[1;33m=\u001b[0m\u001b[0msubok\u001b[0m\u001b[1;33m)\u001b[0m \u001b[1;32mfor\u001b[0m \u001b[0m_m\u001b[0m \u001b[1;32min\u001b[0m \u001b[0margs\u001b[0m\u001b[1;33m]\u001b[0m\u001b[1;33m\u001b[0m\u001b[1;33m\u001b[0m\u001b[0m\n\u001b[0;32m    537\u001b[0m \u001b[1;33m\u001b[0m\u001b[0m\n\u001b[1;32m--> 538\u001b[1;33m     \u001b[0mshape\u001b[0m \u001b[1;33m=\u001b[0m \u001b[0m_broadcast_shape\u001b[0m\u001b[1;33m(\u001b[0m\u001b[1;33m*\u001b[0m\u001b[0margs\u001b[0m\u001b[1;33m)\u001b[0m\u001b[1;33m\u001b[0m\u001b[1;33m\u001b[0m\u001b[0m\n\u001b[0m\u001b[0;32m    539\u001b[0m \u001b[1;33m\u001b[0m\u001b[0m\n\u001b[0;32m    540\u001b[0m     \u001b[1;32mif\u001b[0m \u001b[0mall\u001b[0m\u001b[1;33m(\u001b[0m\u001b[0marray\u001b[0m\u001b[1;33m.\u001b[0m\u001b[0mshape\u001b[0m \u001b[1;33m==\u001b[0m \u001b[0mshape\u001b[0m \u001b[1;32mfor\u001b[0m \u001b[0marray\u001b[0m \u001b[1;32min\u001b[0m \u001b[0margs\u001b[0m\u001b[1;33m)\u001b[0m\u001b[1;33m:\u001b[0m\u001b[1;33m\u001b[0m\u001b[1;33m\u001b[0m\u001b[0m\n",
      "\u001b[1;32m~\\anaconda3\\lib\\site-packages\\numpy\\lib\\stride_tricks.py\u001b[0m in \u001b[0;36m_broadcast_shape\u001b[1;34m(*args)\u001b[0m\n\u001b[0;32m    418\u001b[0m     \u001b[1;31m# use the old-iterator because np.nditer does not handle size 0 arrays\u001b[0m\u001b[1;33m\u001b[0m\u001b[1;33m\u001b[0m\u001b[1;33m\u001b[0m\u001b[0m\n\u001b[0;32m    419\u001b[0m     \u001b[1;31m# consistently\u001b[0m\u001b[1;33m\u001b[0m\u001b[1;33m\u001b[0m\u001b[1;33m\u001b[0m\u001b[0m\n\u001b[1;32m--> 420\u001b[1;33m     \u001b[0mb\u001b[0m \u001b[1;33m=\u001b[0m \u001b[0mnp\u001b[0m\u001b[1;33m.\u001b[0m\u001b[0mbroadcast\u001b[0m\u001b[1;33m(\u001b[0m\u001b[1;33m*\u001b[0m\u001b[0margs\u001b[0m\u001b[1;33m[\u001b[0m\u001b[1;33m:\u001b[0m\u001b[1;36m32\u001b[0m\u001b[1;33m]\u001b[0m\u001b[1;33m)\u001b[0m\u001b[1;33m\u001b[0m\u001b[1;33m\u001b[0m\u001b[0m\n\u001b[0m\u001b[0;32m    421\u001b[0m     \u001b[1;31m# unfortunately, it cannot handle 32 or more arguments directly\u001b[0m\u001b[1;33m\u001b[0m\u001b[1;33m\u001b[0m\u001b[1;33m\u001b[0m\u001b[0m\n\u001b[0;32m    422\u001b[0m     \u001b[1;32mfor\u001b[0m \u001b[0mpos\u001b[0m \u001b[1;32min\u001b[0m \u001b[0mrange\u001b[0m\u001b[1;33m(\u001b[0m\u001b[1;36m32\u001b[0m\u001b[1;33m,\u001b[0m \u001b[0mlen\u001b[0m\u001b[1;33m(\u001b[0m\u001b[0margs\u001b[0m\u001b[1;33m)\u001b[0m\u001b[1;33m,\u001b[0m \u001b[1;36m31\u001b[0m\u001b[1;33m)\u001b[0m\u001b[1;33m:\u001b[0m\u001b[1;33m\u001b[0m\u001b[1;33m\u001b[0m\u001b[0m\n",
      "\u001b[1;31mValueError\u001b[0m: shape mismatch: objects cannot be broadcast to a single shape"
     ]
    },
    {
     "data": {
      "image/png": "[encoded data removed]",
      "text/plain": [
       "<Figure size 720x576 with 1 Axes>"
      ]
     },
     "metadata": {
      "needs_background": "light"
     },
     "output_type": "display_data"
    }
   ],
   "source": [
    "### TODO implement function to visualize the top k queries\n",
    "views_list = [(('marital_status', 'fnlwgt', 'sum'), 37.7958485905924),\n",
    " (('relationship', 'fnlwgt', 'sum'), 35.85922925537636),\n",
    " (('marital_status', 'fnlwgt', 'max'), 32.269467639637604),\n",
    " (('marital_status', 'capital_gain', 'sum'), 29.65112484280034),\n",
    " (('marital_status', 'capital_gain', 'max'), 29.465731147876216),\n",
    " (('relationship', 'capital_gain', 'sum'), 28.369322042544738),\n",
    " (('marital_status', 'fnlwgt', 'min'), 26.610751175325454),\n",
    " (('relationship', 'capital_gain', 'max'), 25.57869033503214),\n",
    " (('native_country', 'capital_gain', 'max'), 17.32342551559357),\n",
    " (('native_country', 'capital_loss', 'max'), 17.0370549301097)]\n",
    "\n",
    "\n",
    "def draw_views(views_list):\n",
    "    for view in views_list:\n",
    "        group_by, measurement, agg_func = view[0]\n",
    "        #a = view[0][0]\n",
    "        #f_m = \"{}({})\".format(view[0][2], view[0][1])\n",
    "        if group_by == 'marital_status':\n",
    "            query = \"\"\"select CASE WHEN marital_status in ('Married-AF-spouse', 'Married-civ-spouse', 'Married-spouse-absent') THEN 'Married' ELSE 'Unmarried' END Grouped_Marital_Status\n",
    "            , {}({}) from census Group by Grouped_Marital_Status;\"\"\".format(agg_func, measurement)\n",
    "            res = execute_query(query)\n",
    "            target_df = res.loc[res['Grouped_Marital_Status']=='Married']\n",
    "            ref_df = res.loc[res['Grouped_Marital_Status']=='Unmarried']\n",
    "            n_groups = 2\n",
    "\n",
    "        else:    \n",
    "            target_query = \"select {0}, {1}({2}) from census where marital_status in ('Married-AF-spouse', 'Married-civ-spouse', 'Married-spouse-absent') Group By {0};\".format(group_by, agg_func, measurement)\n",
    "            ref_query = \"select {0}, {1}({2}) from census where marital_status in ('Never-married', 'Widowed','Divorced', 'Separated') Group By {0};\".format(group_by, agg_func, measurement)\n",
    "            target_df = execute_query(target_query)\n",
    "            ref_df = execute_query(ref_query)\n",
    "            n_groups = len(target_df)\n",
    "\n",
    "        indices = list(target_df.columns)\n",
    "        \n",
    "        target_val = target_df[indices[1]]\n",
    "        ref_val = ref_df[indices[1]]\n",
    "        # create plot\n",
    "        fig, ax = plt.subplots()\n",
    "        index = np.arange(n_groups)\n",
    "        bar_width = 0.4\n",
    "        opacity = 0.8\n",
    "\n",
    "        rects1 = plt.bar(index, ref_val, bar_width, alpha=opacity, color='c', label='unmarried')\n",
    "        rects2 = plt.bar(index + bar_width, target_val, bar_width, alpha=opacity, color='b', label='married')\n",
    "        \n",
    "        plt.xlabel('{}'.format(group_by), fontsize = 16)\n",
    "        plt.ylabel('{}({})'.format(agg_func, measurement), fontsize = 16)\n",
    "                    \n",
    "        if group_by == 'marital_status':\n",
    "            plt.xticks(index + 0.5 * bar_width, [\"Married\", \"Unmarried\"], rotation=45)\n",
    "        else:\n",
    "            plt.xticks(index + 0.5 * bar_width, ref_df[indices[0]], rotation=45)\n",
    "        plt.legend(fontsize=14)\n",
    "\n",
    "        plt.tight_layout()\n",
    "        plt.show()\n",
    "\n",
    "\n",
    "draw_views(views_list)\n"
   ]
  },
  {
   "cell_type": "code",
   "execution_count": null,
   "metadata": {
    "colab": {
     "base_uri": "https://localhost:8080/",
     "height": 334
    },
    "id": "JdsWQ3QE3dRw",
    "outputId": "94574ce3-6d15-4a5b-b91d-32f2236817d0"
   },
   "outputs": [
    {
     "data": {
      "image/png": "[encoded data removed]",
      "text/plain": [
       "<Figure size 432x288 with 1 Axes>"
      ]
     },
     "metadata": {
      "needs_background": "light"
     },
     "output_type": "display_data"
    },
    {
     "name": "stdout",
     "output_type": "stream",
     "text": [
      "CPU times: user 273 ms, sys: 124 ms, total: 396 ms\n",
      "Wall time: 335 ms\n"
     ]
    }
   ],
   "source": [
    "\n",
    "#please use the execute_query function to execute any query on the database, \n",
    "#it returns a dataframe with the result\n",
    "# query = \"\"\"drop view if exists married; create view married as select * from census where marital_status in ('Married-AF-spouse', 'Married-civ-spouse', 'Married-spouse-absent');\n",
    "#            drop view if exists unmarried; create view unmarried as select * from census where marital_status in ('Never-married', 'Widowed','Divorced', 'Separated');\"\"\"\n",
    "# cur.executescript(query)\n",
    "# conn.commit()\n",
    "\n",
    "# # capital gain group-by sex for the target data\n",
    "# query = \"SELECT sex, avg(capital_gain) FROM married GROUP BY sex;\"\n",
    "# cur.execute(query)\n",
    "# target_rows = cur.fetchall()\n",
    "\n",
    "# query = \"SELECT sex, avg(capital_gain) FROM unmarried GROUP BY sex;\"\n",
    "# cur.execute(query)\n",
    "# ref_rows = cur.fetchall()\n",
    "\n",
    "def visualize(target_data, ref_data, view_tuple):\n",
    "    n_groups = len(target_data)\n",
    "    group_by, measurement, agg_func = view_tuple\n",
    "\n",
    "    target_val = target_data.values()\n",
    "    ref_val = ref_data.values()\n",
    "\n",
    "    # create plot\n",
    "    fig, ax = plt.subplots()\n",
    "    index = np.arange(n_groups)\n",
    "    bar_width = 0.4\n",
    "    opacity = 0.8\n",
    "\n",
    "    rects1 = plt.bar(index, ref_val, bar_width, alpha=opacity, color='c', label='unmarried')\n",
    "    rects2 = plt.bar(index + bar_width, target_val, bar_width, alpha=opacity, color='b', label='married')\n",
    "\n",
    "    plt.xlabel('{}'.format(group_by), fontsize = 16)\n",
    "    plt.ylabel('{}({})'.format(agg_func, measurement), fontsize = 16)\n",
    "    plt.xticks(index + 0.5 * bar_width, ref_data.keys(), rotation=45)\n",
    "    plt.legend(fontsize=14)\n",
    "\n",
    "    plt.tight_layout()\n",
    "    plt.show()\n",
    "\n",
    "view_tuple = ('sex', 'capital_gain', 'AVG')\n",
    "visualize(dict(target_rows), dict(ref_rows), view_tuple)"
   ]
  },
  {
   "cell_type": "markdown",
   "metadata": {
    "id": "gblDcuHBpuQJ"
   },
   "source": [
    "## **Pruning based optimization**"
   ]
  },
  {
   "cell_type": "code",
   "execution_count": null,
   "metadata": {
    "id": "LZsgxKxZyH3C"
   },
   "outputs": [],
   "source": [
    "import heapq\n",
    "#pruning based optimization function\n",
    "\n",
    "def get_top_k_views(optimized_queries, k, referenceDB_query, targetDB_query):\n",
    "  views = []\n",
    "  \n",
    "  #partition the database into n partitions\n",
    "  n = 10\n",
    "  #partitions_start_target = partition_DB(n,0)\n",
    "  #partitions_start_reference = partition_DB(n,1)\n",
    "  partitions_start = partition_DB(n)\n",
    "  current_mean = defaultdict(int)\n",
    "  top_k = []\n",
    "  #start running the optimized queries to the database partiotions one by one and apply the pruning based optimization to get rid of views with low utility\n",
    "  for i in range(n):\n",
    "    for query in optimized_queries:\n",
    "      partition_end = -1 if (i == n-1) else partitions_start[i+1]\n",
    "      #partition_end_reference = -1 if (i == len(n)-1) else partitions_start_reference[i+1]\n",
    "\n",
    "      #result of executing query on oe partition\n",
    "      result_df = run_query_on_partition(query, partitions_start[i], partition_end)\n",
    "      #result_df_reference = run_query_on_partition(query, partitions_start_reference[i], partition_end_reference)\n",
    "      utility_score = calculate_utility(result_df_target, result_df_reference)\n",
    "      current_mean[query] = (current_mean[query]*i + utility_score)/(i+1)\n",
    "      upper\n",
    "\n",
    "  #return top k views\n",
    "  return views;\n"
   ]
  },
  {
   "cell_type": "code",
   "execution_count": null,
   "metadata": {
    "id": "XC3QCx7F0bsB"
   },
   "outputs": [],
   "source": [
    "def recommend_views(userQuery, k, referenceDB, targetDB):\n",
    "    optimized_queries = QueryRewrite(userQuery)\n",
    "    top_k_views = get_top_k_views(optimized_queries, k, referenceDB, targetDB)\n",
    "    return top_k_views;\n"
   ]
  },
  {
   "cell_type": "code",
   "execution_count": null,
   "metadata": {
    "id": "UWzWuie8EcM7"
   },
   "outputs": [],
   "source": [
    "from IPython.core.display import Math\n",
    "def Hoeffding_Serfling_Error(delta,m,N):\n",
    "  return Math.sqrt(    (1-(m-1)/N) *  (  2*Math.log(Math.log(m))  +  Math.log(Math.PI**2/(3*delta))  )/(2*m))"
   ]
  },
  {
   "cell_type": "markdown",
   "metadata": {
    "id": "9I6iMBkEI4et"
   },
   "source": []
  },
  {
   "cell_type": "code",
   "execution_count": null,
   "metadata": {
    "id": "IOv-iLOMI_WQ"
   },
   "outputs": [],
   "source": [
    "# %%time\n",
    "\n",
    "# n_splits = 10\n",
    "# split_path = Path('/content/census.splits')\n",
    "# split_path.mkdir(parents=True, exist_ok=True)\n",
    "\n",
    "# df = pd.DataFrame(pd.read_csv('/content/adultdata.csv'))\n",
    "# df.columns = [i.replace('-', '_') for i in df.columns]\n",
    "\n",
    "# df_split= np.array_split(df, n_splits)\n",
    "\n",
    "# for i in range(len(df_split)):\n",
    "#     df_split[i].to_csv(Path(split_path / \"census.split_{}.csv\".format(i)), encoding='utf-8', index=False)\n",
    "\n",
    "# !zip -r /content/census.splits.zip /content/census.splits"
   ]
  },
  {
   "cell_type": "code",
   "execution_count": null,
   "metadata": {
    "id": "khbzkeo-vENs"
   },
   "outputs": [],
   "source": [
    "# for i in range(n_splits):\n",
    "#     cur.executescript('''drop table if exists split_{};\n",
    "#                         create table split_{}\n",
    "#                         (age int, work_class text, fnlwgt int, education text, education_num int, marital_status text, occupation text, relationship text, \n",
    "#                         race text, sex text, capital_gain int, capital_loss int, hours_per_week int, native_country text, class text)'''.format(i, i))\n",
    "    \n",
    "#     # change this to psql\n",
    "#     df = pd.DataFrame(pd.read_csv('/content/census.splits/census.split_{}.csv'.format(i)))\n",
    "#     for row in df.itertuples():\n",
    "#         cur.execute('''\n",
    "#                   INSERT INTO split_{} (age, work_class, fnlwgt, education, education_num, marital_status, occupation, relationship, \n",
    "#                   race, sex, capital_gain, capital_loss, hours_per_week, native_country, class)\n",
    "#                   VALUES (?,?,?,?,?,?,?,?,?,?,?,?,?,?,?)\n",
    "#                   '''.format(i),\n",
    "#                   (row.AGE, row.WORK_CLASS, row.FNLWGT, row.EDUCATION, row.EDUCATION_NUM, row.MARITAL_STATUS, row.OCCUPATION, row.RELATIONSHIP, \n",
    "#                   row.RACE, row.SEX, row.CAPITAL_GAIN, row.CAPITAL_LOSS, row.HOURS_PER_WEEK, row.NATIVE_COUNTRY, row.CLASS)\n",
    "#                   )   \n",
    "\n",
    "# conn.commit()\n",
    "# census_view_query = 'drop view if exists census_view; create view census_view as select * from split_0'\n",
    "# for i in range(1, n_splits):\n",
    "#     census_view_query += ' union select * from split_{}'.format(i)\n",
    "# census_view_query += ';'\n",
    "# cur.executescript(census_view_query)\n",
    "# conn.commit()"
   ]
  },
  {
   "cell_type": "code",
   "execution_count": null,
   "metadata": {
    "id": "O8bc_6_avMfY"
   },
   "outputs": [],
   "source": [
    "# n_phases = n_splits\n",
    "# for i in range(n_phases):\n",
    "#     query = \"\"\"drop view if exists split_{0}_married; create view split_{0}_married as select * from split_{0} where marital_status in ('Married-AF-spouse', 'Married-civ-spouse', 'Married-spouse-absent','Separated');\n",
    "#            drop view if exists split_{0}_unmarried; create view split_{0}_unmarried as select * from split_{0} where marital_status in ('Never-married', 'Widowed','Divorced');\"\"\".format(i)\n",
    "#     cur.executescript(query)\n",
    "#     conn.commit()"
   ]
  }
 ],
 "metadata": {
  "colab": {
   "collapsed_sections": [],
   "name": "SeeDB.ipynb",
   "provenance": []
  },
  "kernelspec": {
   "display_name": "Python 3",
   "language": "python",
   "name": "python3"
  },
  "language_info": {
   "codemirror_mode": {
    "name": "ipython",
    "version": 3
   },
   "file_extension": ".py",
   "mimetype": "text/x-python",
   "name": "python",
   "nbconvert_exporter": "python",
   "pygments_lexer": "ipython3",
   "version": "3.8.8"
  }
 },
 "nbformat": 4,
 "nbformat_minor": 1
}
